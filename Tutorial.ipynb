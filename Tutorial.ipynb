{
 "cells": [
  {
   "cell_type": "markdown",
   "metadata": {},
   "source": [
    "This is a tutorial for our figure generator. We show how to create a figure based on grid modules. \n",
    "\n",
    "Additional examples can be found in the `tests/` folder.\n",
    "\n",
    "The following code lines are only needed to show the figure result in jupyter. For that we have one additional dependency: pdf2image."
   ]
  },
  {
   "cell_type": "code",
   "execution_count": 1,
   "metadata": {},
   "outputs": [],
   "source": [
    "from jupyter_util import displaypdf, displayhtml"
   ]
  },
  {
   "cell_type": "markdown",
   "metadata": {},
   "source": [
    "First, we need to import the figure generator.\n",
    "\"util\" provides functionality for cropping, tonemapping, error metrics, etc."
   ]
  },
  {
   "cell_type": "code",
   "execution_count": 2,
   "metadata": {},
   "outputs": [],
   "source": [
    "import figuregen\n",
    "from figuregen import util\n",
    "import numpy as np"
   ]
  },
  {
   "cell_type": "markdown",
   "metadata": {},
   "source": [
    "Then, we need some image data. Here we use solid color images. Typically, the user has their own image data, that they can load and process. "
   ]
  },
  {
   "cell_type": "code",
   "execution_count": 3,
   "metadata": {},
   "outputs": [],
   "source": [
    "# define some colors (r,g,b)\n",
    "yellow=[232, 181, 88]\n",
    "l_blue=[94, 163, 188]\n",
    "blue=[82, 110, 186]\n",
    "orange=[186, 98, 82]\n",
    "\n",
    "# generate test images\n",
    "img_blue = np.tile([x / 255 for x in l_blue], (32, 64, 1))\n",
    "img_yellow = np.tile([x / 255 for x in yellow], (32, 64, 1))\n",
    "img_orange = np.tile([x / 255 for x in orange], (32, 64, 1))\n",
    "\n",
    "# load the two images\n",
    "images = [\n",
    "    img_blue,\n",
    "    img_yellow,\n",
    "    img_orange\n",
    "]"
   ]
  },
  {
   "cell_type": "markdown",
   "metadata": {},
   "source": [
    "In the following we create a grid with two rows and three columns and fill it with the images."
   ]
  },
  {
   "cell_type": "code",
   "execution_count": 4,
   "metadata": {},
   "outputs": [],
   "source": [
    "n_rows = 2\n",
    "n_cols = 3\n",
    "c_grid = figuregen.Grid(num_rows=n_rows, num_cols=n_cols)\n",
    "\n",
    "# fill grid with image data\n",
    "for row in range(n_rows):\n",
    "    for col in range(n_cols):\n",
    "        c_grid.get_element(row,col).set_image(images[row])"
   ]
  },
  {
   "cell_type": "markdown",
   "metadata": {},
   "source": [
    "This is the first module for our figure.\n",
    "To generate a figure the user provides a list of modules (here one grid), the figure width, and the output filename. The filename extension defines which backend will be used. The figure generator offers three backends: LaTeX (.pdf), HTML (.html) and PPTX (.pptx). In this tutorial we use LaTeX. "
   ]
  },
  {
   "cell_type": "code",
   "execution_count": 5,
   "metadata": {
    "scrolled": true
   },
   "outputs": [
    {
     "output_type": "display_data",
     "data": {
      "text/plain": "<IPython.core.display.HTML object>",
      "text/html": "<script src=\"./scripts/Chart.min.js\"></script>\n<div style='position: relative; background-color: white; width: 180.0mm; height: 60.266666666666666mm; ' > \n<div class=\"module\" style=\"position: absolute; top: 0mm; left: 0mm; width: 180.0mm; height: 60.266666666666666mm;\">\n<img class=\"element\" style=\"position: absolute; margin: 0; top: 0.0mm; left: 0.0mm;height: 29.733333333333334mm; width: 59.46666666666667mm;\" src=\"data:image/png;base64,iVBORw0KGgoAAAANSUhEUgAAAEAAAAAgCAIAAAAt/+nTAAAAc0lEQVRYCdXBAQEAAADBMIoq9xrCyWFzqJ45VM8cqmcO1TOH6plD9cyheuZQPXOonjlUzxyqZw7VM4fqmUP1zKF65lA9c6ieOVTPHKpnDtUzh+qZQ/XMoXrmUD1zqJ45VM8cqmcO1TOH6plD9cyheuZQPRtFmzfBjrjh9wAAAABJRU5ErkJggg==\"/>\n<img class=\"element\" style=\"position: absolute; margin: 0; top: 0.0mm; left: 60.266666666666666mm;height: 29.733333333333334mm; width: 59.46666666666667mm;\" src=\"data:image/png;base64,iVBORw0KGgoAAAANSUhEUgAAAEAAAAAgCAIAAAAt/+nTAAAAc0lEQVRYCdXBAQEAAADBMIoq9xrCyWFzqJ45VM8cqmcO1TOH6plD9cyheuZQPXOonjlUzxyqZw7VM4fqmUP1zKF65lA9c6ieOVTPHKpnDtUzh+qZQ/XMoXrmUD1zqJ45VM8cqmcO1TOH6plD9cyheuZQPRtFmzfBjrjh9wAAAABJRU5ErkJggg==\"/>\n<img class=\"element\" style=\"position: absolute; margin: 0; top: 0.0mm; left: 120.53333333333333mm;height: 29.733333333333334mm; width: 59.46666666666667mm;\" src=\"data:image/png;base64,iVBORw0KGgoAAAANSUhEUgAAAEAAAAAgCAIAAAAt/+nTAAAAc0lEQVRYCdXBAQEAAADBMIoq9xrCyWFzqJ45VM8cqmcO1TOH6plD9cyheuZQPXOonjlUzxyqZw7VM4fqmUP1zKF65lA9c6ieOVTPHKpnDtUzh+qZQ/XMoXrmUD1zqJ45VM8cqmcO1TOH6plD9cyheuZQPRtFmzfBjrjh9wAAAABJRU5ErkJggg==\"/>\n<img class=\"element\" style=\"position: absolute; margin: 0; top: 30.533333333333335mm; left: 0.0mm;height: 29.733333333333334mm; width: 59.46666666666667mm;\" src=\"data:image/png;base64,iVBORw0KGgoAAAANSUhEUgAAAEAAAAAgCAIAAAAt/+nTAAAAc0lEQVRYCdXBAQEAAADBMFoq+k5iyGFziZ65RM9comcu0TOX6JlL9MwleuYSPXOJnrlEz1yiZy7RM5fomUv0zCV65hI9c4meuUTPXKJnLtEzl+iZS/TMJXrmEj1ziZ65RM9comcu0TOX6JlL9MwleuYSPRtt9D7BlhD8BQAAAABJRU5ErkJggg==\"/>\n<img class=\"element\" style=\"position: absolute; margin: 0; top: 30.533333333333335mm; left: 60.266666666666666mm;height: 29.733333333333334mm; width: 59.46666666666667mm;\" src=\"data:image/png;base64,iVBORw0KGgoAAAANSUhEUgAAAEAAAAAgCAIAAAAt/+nTAAAAc0lEQVRYCdXBAQEAAADBMFoq+k5iyGFziZ65RM9comcu0TOX6JlL9MwleuYSPXOJnrlEz1yiZy7RM5fomUv0zCV65hI9c4meuUTPXKJnLtEzl+iZS/TMJXrmEj1ziZ65RM9comcu0TOX6JlL9MwleuYSPRtt9D7BlhD8BQAAAABJRU5ErkJggg==\"/>\n<img class=\"element\" style=\"position: absolute; margin: 0; top: 30.533333333333335mm; left: 120.53333333333333mm;height: 29.733333333333334mm; width: 59.46666666666667mm;\" src=\"data:image/png;base64,iVBORw0KGgoAAAANSUhEUgAAAEAAAAAgCAIAAAAt/+nTAAAAc0lEQVRYCdXBAQEAAADBMFoq+k5iyGFziZ65RM9comcu0TOX6JlL9MwleuYSPXOJnrlEz1yiZy7RM5fomUv0zCV65hI9c4meuUTPXKJnLtEzl+iZS/TMJXrmEj1ziZ65RM9comcu0TOX6JlL9MwleuYSPRtt9D7BlhD8BQAAAABJRU5ErkJggg==\"/>\n\n\n\n\n\n\n\n\n\n\n\n\n</div>\n\n</div>"
     },
     "metadata": {}
    }
   ],
   "source": [
    "# generate figure\n",
    "figuregen.horizontal_figure([c_grid], width_cm=18., filename='figure.html')\n",
    "# show figure\n",
    "displayhtml('figure.html')"
   ]
  },
  {
   "source": [
    "With the following two code lines, you can generate a HTML file and display it in jupyter:\n",
    "\n",
    "\n",
    "figuregen.horizontal_figure(\\[c_grid\\], width_cm=18., filename='horizontal_figure.html')\n",
    "\n",
    "display(HTML(data=loadhtml('horizontal_figure.html')))\n",
    "\n",
    "\n",
    "We do not do that here, because we would need to add the generated image folders in our repository, so that the images can be shown."
   ],
   "cell_type": "markdown",
   "metadata": {}
  },
  {
   "source": [
    "Let's add another grid to the previous one!"
   ],
   "cell_type": "markdown",
   "metadata": {}
  },
  {
   "cell_type": "code",
   "execution_count": 6,
   "metadata": {},
   "outputs": [
    {
     "output_type": "display_data",
     "data": {
      "text/plain": "<IPython.core.display.HTML object>",
      "text/html": "<script src=\"./scripts/Chart.min.js\"></script>\n<div style='position: relative; background-color: white; width: 180.0mm; height: 36.160000000000004mm; ' > \n<div class=\"module\" style=\"position: absolute; top: 0mm; left: 0mm; width: 72.32000000000001mm; height: 36.160000000000004mm;\">\n<img class=\"element\" style=\"position: absolute; margin: 0; top: 0.0mm; left: 0.0mm;height: 36.160000000000004mm; width: 72.32000000000001mm;\" src=\"data:image/png;base64,iVBORw0KGgoAAAANSUhEUgAAAEAAAAAgCAIAAAAt/+nTAAAAc0lEQVRYCdXBAQEAAADBMCqK8JjSyWFziZ65RM9comcu0TOX6JlL9MwleuYSPXOJnrlEz1yiZy7RM5fomUv0zCV65hI9c4meuUTPXKJnLtEzl+iZS/TMJXrmEj1ziZ65RM9comcu0TOX6JlL9MwleuYSPRuT9i3hvkxsvgAAAABJRU5ErkJggg==\"/>\n\n\n\n\n\n\n\n</div>\n<div class=\"module\" style=\"position: absolute; top: 0mm; left: 72.32000000000001mm; width: 107.68mm; height: 36.160000000000004mm;\">\n<img class=\"element\" style=\"position: absolute; margin: 0; top: 0.0mm; left: 0.0mm;height: 17.680000000000003mm; width: 35.36000000000001mm;\" src=\"data:image/png;base64,iVBORw0KGgoAAAANSUhEUgAAAEAAAAAgCAIAAAAt/+nTAAAAc0lEQVRYCdXBAQEAAADBMIoq9xrCyWFzqJ45VM8cqmcO1TOH6plD9cyheuZQPXOonjlUzxyqZw7VM4fqmUP1zKF65lA9c6ieOVTPHKpnDtUzh+qZQ/XMoXrmUD1zqJ45VM8cqmcO1TOH6plD9cyheuZQPRtFmzfBjrjh9wAAAABJRU5ErkJggg==\"/>\n<img class=\"element\" style=\"position: absolute; margin: 0; top: 0.0mm; left: 36.160000000000004mm;height: 17.680000000000003mm; width: 35.36000000000001mm;\" src=\"data:image/png;base64,iVBORw0KGgoAAAANSUhEUgAAAEAAAAAgCAIAAAAt/+nTAAAAc0lEQVRYCdXBAQEAAADBMIoq9xrCyWFzqJ45VM8cqmcO1TOH6plD9cyheuZQPXOonjlUzxyqZw7VM4fqmUP1zKF65lA9c6ieOVTPHKpnDtUzh+qZQ/XMoXrmUD1zqJ45VM8cqmcO1TOH6plD9cyheuZQPRtFmzfBjrjh9wAAAABJRU5ErkJggg==\"/>\n<img class=\"element\" style=\"position: absolute; margin: 0; top: 0.0mm; left: 72.32000000000001mm;height: 17.680000000000003mm; width: 35.36000000000001mm;\" src=\"data:image/png;base64,iVBORw0KGgoAAAANSUhEUgAAAEAAAAAgCAIAAAAt/+nTAAAAc0lEQVRYCdXBAQEAAADBMIoq9xrCyWFzqJ45VM8cqmcO1TOH6plD9cyheuZQPXOonjlUzxyqZw7VM4fqmUP1zKF65lA9c6ieOVTPHKpnDtUzh+qZQ/XMoXrmUD1zqJ45VM8cqmcO1TOH6plD9cyheuZQPRtFmzfBjrjh9wAAAABJRU5ErkJggg==\"/>\n<img class=\"element\" style=\"position: absolute; margin: 0; top: 18.480000000000004mm; left: 0.0mm;height: 17.680000000000003mm; width: 35.36000000000001mm;\" src=\"data:image/png;base64,iVBORw0KGgoAAAANSUhEUgAAAEAAAAAgCAIAAAAt/+nTAAAAc0lEQVRYCdXBAQEAAADBMFoq+k5iyGFziZ65RM9comcu0TOX6JlL9MwleuYSPXOJnrlEz1yiZy7RM5fomUv0zCV65hI9c4meuUTPXKJnLtEzl+iZS/TMJXrmEj1ziZ65RM9comcu0TOX6JlL9MwleuYSPRtt9D7BlhD8BQAAAABJRU5ErkJggg==\"/>\n<img class=\"element\" style=\"position: absolute; margin: 0; top: 18.480000000000004mm; left: 36.160000000000004mm;height: 17.680000000000003mm; width: 35.36000000000001mm;\" src=\"data:image/png;base64,iVBORw0KGgoAAAANSUhEUgAAAEAAAAAgCAIAAAAt/+nTAAAAc0lEQVRYCdXBAQEAAADBMFoq+k5iyGFziZ65RM9comcu0TOX6JlL9MwleuYSPXOJnrlEz1yiZy7RM5fomUv0zCV65hI9c4meuUTPXKJnLtEzl+iZS/TMJXrmEj1ziZ65RM9comcu0TOX6JlL9MwleuYSPRtt9D7BlhD8BQAAAABJRU5ErkJggg==\"/>\n<img class=\"element\" style=\"position: absolute; margin: 0; top: 18.480000000000004mm; left: 72.32000000000001mm;height: 17.680000000000003mm; width: 35.36000000000001mm;\" src=\"data:image/png;base64,iVBORw0KGgoAAAANSUhEUgAAAEAAAAAgCAIAAAAt/+nTAAAAc0lEQVRYCdXBAQEAAADBMFoq+k5iyGFziZ65RM9comcu0TOX6JlL9MwleuYSPXOJnrlEz1yiZy7RM5fomUv0zCV65hI9c4meuUTPXKJnLtEzl+iZS/TMJXrmEj1ziZ65RM9comcu0TOX6JlL9MwleuYSPRtt9D7BlhD8BQAAAABJRU5ErkJggg==\"/>\n\n\n\n\n\n\n\n\n\n\n\n\n</div>\n\n</div>"
     },
     "metadata": {}
    }
   ],
   "source": [
    "# create a second grid (1-by-1)\n",
    "ref_grid = figuregen.Grid(num_rows=1, num_cols=1)\n",
    "ref_grid.get_element(0,0).set_image(img_orange)\n",
    "\n",
    "# generate figure with two grids\n",
    "figuregen.horizontal_figure([ref_grid, c_grid], width_cm=18., filename='figure.html')\n",
    "displayhtml('figure.html')"
   ]
  },
  {
   "source": [
    "Let's add some paddings!\n",
    "\n",
    "Layout: \n",
    "To make sure, that the user does not need to set every little layout-property there exist, we provide a default layout ('figuregenerator/generator/default_layouts.py'). Every value not set, will get the default value within that file. Default values for field_sizes concerning titles/captions are defined in 'figuregenerator/generator/figuregen.py'.\n",
    "\n",
    "Units:\n",
    "Most units are in mm (millimeter, type:float). Some are in points (concerning linewidths and fontsizes) or pixels (concerning images)."
   ],
   "cell_type": "markdown",
   "metadata": {}
  },
  {
   "cell_type": "code",
   "execution_count": 7,
   "metadata": {},
   "outputs": [
    {
     "output_type": "display_data",
     "data": {
      "text/plain": "<IPython.core.display.HTML object>",
      "text/html": "<script src=\"./scripts/Chart.min.js\"></script>\n<div style='position: relative; background-color: white; width: 180.0mm; height: 35.7mm; ' > \n<div class=\"module\" style=\"position: absolute; top: 0mm; left: 0mm; width: 72.4mm; height: 35.7mm;\">\n<img class=\"element\" style=\"position: absolute; margin: 0; top: 0.0mm; left: 0.0mm;height: 35.7mm; width: 71.4mm;\" src=\"data:image/png;base64,iVBORw0KGgoAAAANSUhEUgAAAEAAAAAgCAIAAAAt/+nTAAAAc0lEQVRYCdXBAQEAAADBMCqK8JjSyWFziZ65RM9comcu0TOX6JlL9MwleuYSPXOJnrlEz1yiZy7RM5fomUv0zCV65hI9c4meuUTPXKJnLtEzl+iZS/TMJXrmEj1ziZ65RM9comcu0TOX6JlL9MwleuYSPRuT9i3hvkxsvgAAAABJRU5ErkJggg==\"/>\n\n\n\n\n\n\n\n</div>\n<div class=\"module\" style=\"position: absolute; top: 0mm; left: 72.4mm; width: 107.60000000000001mm; height: 35.7mm;\">\n<img class=\"element\" style=\"position: absolute; margin: 0; top: 0.0mm; left: 0.0mm;height: 17.6mm; width: 35.2mm;\" src=\"data:image/png;base64,iVBORw0KGgoAAAANSUhEUgAAAEAAAAAgCAIAAAAt/+nTAAAAc0lEQVRYCdXBAQEAAADBMIoq9xrCyWFzqJ45VM8cqmcO1TOH6plD9cyheuZQPXOonjlUzxyqZw7VM4fqmUP1zKF65lA9c6ieOVTPHKpnDtUzh+qZQ/XMoXrmUD1zqJ45VM8cqmcO1TOH6plD9cyheuZQPRtFmzfBjrjh9wAAAABJRU5ErkJggg==\"/>\n<img class=\"element\" style=\"position: absolute; margin: 0; top: 0.0mm; left: 36.2mm;height: 17.6mm; width: 35.2mm;\" src=\"data:image/png;base64,iVBORw0KGgoAAAANSUhEUgAAAEAAAAAgCAIAAAAt/+nTAAAAc0lEQVRYCdXBAQEAAADBMIoq9xrCyWFzqJ45VM8cqmcO1TOH6plD9cyheuZQPXOonjlUzxyqZw7VM4fqmUP1zKF65lA9c6ieOVTPHKpnDtUzh+qZQ/XMoXrmUD1zqJ45VM8cqmcO1TOH6plD9cyheuZQPRtFmzfBjrjh9wAAAABJRU5ErkJggg==\"/>\n<img class=\"element\" style=\"position: absolute; margin: 0; top: 0.0mm; left: 72.4mm;height: 17.6mm; width: 35.2mm;\" src=\"data:image/png;base64,iVBORw0KGgoAAAANSUhEUgAAAEAAAAAgCAIAAAAt/+nTAAAAc0lEQVRYCdXBAQEAAADBMIoq9xrCyWFzqJ45VM8cqmcO1TOH6plD9cyheuZQPXOonjlUzxyqZw7VM4fqmUP1zKF65lA9c6ieOVTPHKpnDtUzh+qZQ/XMoXrmUD1zqJ45VM8cqmcO1TOH6plD9cyheuZQPRtFmzfBjrjh9wAAAABJRU5ErkJggg==\"/>\n<img class=\"element\" style=\"position: absolute; margin: 0; top: 18.1mm; left: 0.0mm;height: 17.6mm; width: 35.2mm;\" src=\"data:image/png;base64,iVBORw0KGgoAAAANSUhEUgAAAEAAAAAgCAIAAAAt/+nTAAAAc0lEQVRYCdXBAQEAAADBMFoq+k5iyGFziZ65RM9comcu0TOX6JlL9MwleuYSPXOJnrlEz1yiZy7RM5fomUv0zCV65hI9c4meuUTPXKJnLtEzl+iZS/TMJXrmEj1ziZ65RM9comcu0TOX6JlL9MwleuYSPRtt9D7BlhD8BQAAAABJRU5ErkJggg==\"/>\n<img class=\"element\" style=\"position: absolute; margin: 0; top: 18.1mm; left: 36.2mm;height: 17.6mm; width: 35.2mm;\" src=\"data:image/png;base64,iVBORw0KGgoAAAANSUhEUgAAAEAAAAAgCAIAAAAt/+nTAAAAc0lEQVRYCdXBAQEAAADBMFoq+k5iyGFziZ65RM9comcu0TOX6JlL9MwleuYSPXOJnrlEz1yiZy7RM5fomUv0zCV65hI9c4meuUTPXKJnLtEzl+iZS/TMJXrmEj1ziZ65RM9comcu0TOX6JlL9MwleuYSPRtt9D7BlhD8BQAAAABJRU5ErkJggg==\"/>\n<img class=\"element\" style=\"position: absolute; margin: 0; top: 18.1mm; left: 72.4mm;height: 17.6mm; width: 35.2mm;\" src=\"data:image/png;base64,iVBORw0KGgoAAAANSUhEUgAAAEAAAAAgCAIAAAAt/+nTAAAAc0lEQVRYCdXBAQEAAADBMFoq+k5iyGFziZ65RM9comcu0TOX6JlL9MwleuYSPXOJnrlEz1yiZy7RM5fomUv0zCV65hI9c4meuUTPXKJnLtEzl+iZS/TMJXrmEj1ziZ65RM9comcu0TOX6JlL9MwleuYSPRtt9D7BlhD8BQAAAABJRU5ErkJggg==\"/>\n\n\n\n\n\n\n\n\n\n\n\n\n</div>\n\n</div>"
     },
     "metadata": {}
    }
   ],
   "source": [
    "\n",
    "# Specify the paddings for rows and columns (unit: mm), before we had default values\n",
    "c_lay = c_grid.get_layout()\n",
    "c_lay.set_padding(row=0.5, column=1.0)\n",
    "\n",
    "# To get a padding between those grids: set padding right for the left grid\n",
    "ref_lay = ref_grid.get_layout()\n",
    "ref_lay.set_padding(right=1.0)\n",
    "\n",
    "# generate figure\n",
    "figuregen.horizontal_figure([ref_grid, c_grid], width_cm=18., filename='figure.html')\n",
    "displayhtml(\"figure.html\")"
   ]
  },
  {
   "source": [
    "# add a title on top of the reference\n",
    "ref_grid.set_title('top', 'My Title')\n",
    "# Specify field_size of the title. 'field_size' is either height oder width, depending on the position (in case for 'top' it is the height).\n",
    "ref_lay.set_title('top', field_size_mm=5., offset_mm=1., fontsize=12)\n",
    "\n",
    "# generate figure with two grids\n",
    "figuregen.horizontal_figure([ref_grid, c_grid], width_cm=18., filename='figure.html')\n",
    "displayhtml(\"figure.html\")\n"
   ],
   "cell_type": "code",
   "metadata": {},
   "execution_count": 8,
   "outputs": [
    {
     "output_type": "display_data",
     "data": {
      "text/plain": "<IPython.core.display.HTML object>",
      "text/html": "<script src=\"./scripts/Chart.min.js\"></script>\n<div style='position: relative; background-color: white; width: 180.0mm; height: 38.1mm; ' > \n<div class=\"module\" style=\"position: absolute; top: 0mm; left: 0mm; width: 65.2mm; height: 38.1mm;\">\n<img class=\"element\" style=\"position: absolute; margin: 0; top: 6.0mm; left: 0.0mm;height: 32.1mm; width: 64.2mm;\" src=\"data:image/png;base64,iVBORw0KGgoAAAANSUhEUgAAAEAAAAAgCAIAAAAt/+nTAAAAc0lEQVRYCdXBAQEAAADBMCqK8JjSyWFziZ65RM9comcu0TOX6JlL9MwleuYSPXOJnrlEz1yiZy7RM5fomUv0zCV65hI9c4meuUTPXKJnLtEzl+iZS/TMJXrmEj1ziZ65RM9comcu0TOX6JlL9MwleuYSPRuT9i3hvkxsvgAAAABJRU5ErkJggg==\"/>\n\n\n<div class=\"title-container\" style=\"position: absolute; margin-top: 0; margin-bottom: 0;display: flex; align-items: center; justify-content: center; top: 0.0mm; left: 0.0mm; width: 64.2mm; height: 5.0mm;\">\n<p class=\"title-content\" style=\"margin-top: 0; margin-bottom: 0;text-align: center; color: rgb(0,0,0);; font-size: 12pt;\">My Title</p>\n</div>\n\n\n\n\n\n</div>\n<div class=\"module\" style=\"position: absolute; top: 0mm; left: 65.2mm; width: 114.80000000000001mm; height: 38.1mm;\">\n<img class=\"element\" style=\"position: absolute; margin: 0; top: 0.0mm; left: 0.0mm;height: 18.8mm; width: 37.6mm;\" src=\"data:image/png;base64,iVBORw0KGgoAAAANSUhEUgAAAEAAAAAgCAIAAAAt/+nTAAAAc0lEQVRYCdXBAQEAAADBMIoq9xrCyWFzqJ45VM8cqmcO1TOH6plD9cyheuZQPXOonjlUzxyqZw7VM4fqmUP1zKF65lA9c6ieOVTPHKpnDtUzh+qZQ/XMoXrmUD1zqJ45VM8cqmcO1TOH6plD9cyheuZQPRtFmzfBjrjh9wAAAABJRU5ErkJggg==\"/>\n<img class=\"element\" style=\"position: absolute; margin: 0; top: 0.0mm; left: 38.6mm;height: 18.8mm; width: 37.6mm;\" src=\"data:image/png;base64,iVBORw0KGgoAAAANSUhEUgAAAEAAAAAgCAIAAAAt/+nTAAAAc0lEQVRYCdXBAQEAAADBMIoq9xrCyWFzqJ45VM8cqmcO1TOH6plD9cyheuZQPXOonjlUzxyqZw7VM4fqmUP1zKF65lA9c6ieOVTPHKpnDtUzh+qZQ/XMoXrmUD1zqJ45VM8cqmcO1TOH6plD9cyheuZQPRtFmzfBjrjh9wAAAABJRU5ErkJggg==\"/>\n<img class=\"element\" style=\"position: absolute; margin: 0; top: 0.0mm; left: 77.2mm;height: 18.8mm; width: 37.6mm;\" src=\"data:image/png;base64,iVBORw0KGgoAAAANSUhEUgAAAEAAAAAgCAIAAAAt/+nTAAAAc0lEQVRYCdXBAQEAAADBMIoq9xrCyWFzqJ45VM8cqmcO1TOH6plD9cyheuZQPXOonjlUzxyqZw7VM4fqmUP1zKF65lA9c6ieOVTPHKpnDtUzh+qZQ/XMoXrmUD1zqJ45VM8cqmcO1TOH6plD9cyheuZQPRtFmzfBjrjh9wAAAABJRU5ErkJggg==\"/>\n<img class=\"element\" style=\"position: absolute; margin: 0; top: 19.3mm; left: 0.0mm;height: 18.8mm; width: 37.6mm;\" src=\"data:image/png;base64,iVBORw0KGgoAAAANSUhEUgAAAEAAAAAgCAIAAAAt/+nTAAAAc0lEQVRYCdXBAQEAAADBMFoq+k5iyGFziZ65RM9comcu0TOX6JlL9MwleuYSPXOJnrlEz1yiZy7RM5fomUv0zCV65hI9c4meuUTPXKJnLtEzl+iZS/TMJXrmEj1ziZ65RM9comcu0TOX6JlL9MwleuYSPRtt9D7BlhD8BQAAAABJRU5ErkJggg==\"/>\n<img class=\"element\" style=\"position: absolute; margin: 0; top: 19.3mm; left: 38.6mm;height: 18.8mm; width: 37.6mm;\" src=\"data:image/png;base64,iVBORw0KGgoAAAANSUhEUgAAAEAAAAAgCAIAAAAt/+nTAAAAc0lEQVRYCdXBAQEAAADBMFoq+k5iyGFziZ65RM9comcu0TOX6JlL9MwleuYSPXOJnrlEz1yiZy7RM5fomUv0zCV65hI9c4meuUTPXKJnLtEzl+iZS/TMJXrmEj1ziZ65RM9comcu0TOX6JlL9MwleuYSPRtt9D7BlhD8BQAAAABJRU5ErkJggg==\"/>\n<img class=\"element\" style=\"position: absolute; margin: 0; top: 19.3mm; left: 77.2mm;height: 18.8mm; width: 37.6mm;\" src=\"data:image/png;base64,iVBORw0KGgoAAAANSUhEUgAAAEAAAAAgCAIAAAAt/+nTAAAAc0lEQVRYCdXBAQEAAADBMFoq+k5iyGFziZ65RM9comcu0TOX6JlL9MwleuYSPXOJnrlEz1yiZy7RM5fomUv0zCV65hI9c4meuUTPXKJnLtEzl+iZS/TMJXrmEj1ziZ65RM9comcu0TOX6JlL9MwleuYSPRtt9D7BlhD8BQAAAABJRU5ErkJggg==\"/>\n\n\n\n\n\n\n\n\n\n\n\n\n</div>\n\n</div>"
     },
     "metadata": {}
    }
   ]
  },
  {
   "source": [
    "Note (WIP): The text color in html should be per default black like in other backends (if not specified otherwise). This is not the case, yet, as the text colors defaults are those of Jupyter/Browser/etc. \n",
    "\n",
    "Let's align the top edge of the right hand images with the left hand one."
   ],
   "cell_type": "markdown",
   "metadata": {}
  },
  {
   "cell_type": "code",
   "execution_count": 9,
   "metadata": {},
   "outputs": [
    {
     "output_type": "display_data",
     "data": {
      "text/plain": "<IPython.core.display.HTML object>",
      "text/html": "<script src=\"./scripts/Chart.min.js\"></script>\n<div style='position: relative; background-color: white; width: 180.0mm; height: 41.7mm; ' > \n<div class=\"module\" style=\"position: absolute; top: 0mm; left: 0mm; width: 72.4mm; height: 41.7mm;\">\n<img class=\"element\" style=\"position: absolute; margin: 0; top: 6.0mm; left: 0.0mm;height: 35.7mm; width: 71.4mm;\" src=\"data:image/png;base64,iVBORw0KGgoAAAANSUhEUgAAAEAAAAAgCAIAAAAt/+nTAAAAc0lEQVRYCdXBAQEAAADBMCqK8JjSyWFziZ65RM9comcu0TOX6JlL9MwleuYSPXOJnrlEz1yiZy7RM5fomUv0zCV65hI9c4meuUTPXKJnLtEzl+iZS/TMJXrmEj1ziZ65RM9comcu0TOX6JlL9MwleuYSPRuT9i3hvkxsvgAAAABJRU5ErkJggg==\"/>\n\n\n<div class=\"title-container\" style=\"position: absolute; margin-top: 0; margin-bottom: 0;display: flex; align-items: center; justify-content: center; top: 0.0mm; left: 0.0mm; width: 71.4mm; height: 5.0mm;\">\n<p class=\"title-content\" style=\"margin-top: 0; margin-bottom: 0;text-align: center; color: rgb(0,0,0);; font-size: 12pt;\">My Title</p>\n</div>\n\n\n\n\n\n</div>\n<div class=\"module\" style=\"position: absolute; top: 0mm; left: 72.4mm; width: 107.60000000000001mm; height: 41.7mm;\">\n<img class=\"element\" style=\"position: absolute; margin: 0; top: 6.0mm; left: 0.0mm;height: 17.6mm; width: 35.2mm;\" src=\"data:image/png;base64,iVBORw0KGgoAAAANSUhEUgAAAEAAAAAgCAIAAAAt/+nTAAAAc0lEQVRYCdXBAQEAAADBMIoq9xrCyWFzqJ45VM8cqmcO1TOH6plD9cyheuZQPXOonjlUzxyqZw7VM4fqmUP1zKF65lA9c6ieOVTPHKpnDtUzh+qZQ/XMoXrmUD1zqJ45VM8cqmcO1TOH6plD9cyheuZQPRtFmzfBjrjh9wAAAABJRU5ErkJggg==\"/>\n<img class=\"element\" style=\"position: absolute; margin: 0; top: 6.0mm; left: 36.2mm;height: 17.6mm; width: 35.2mm;\" src=\"data:image/png;base64,iVBORw0KGgoAAAANSUhEUgAAAEAAAAAgCAIAAAAt/+nTAAAAc0lEQVRYCdXBAQEAAADBMIoq9xrCyWFzqJ45VM8cqmcO1TOH6plD9cyheuZQPXOonjlUzxyqZw7VM4fqmUP1zKF65lA9c6ieOVTPHKpnDtUzh+qZQ/XMoXrmUD1zqJ45VM8cqmcO1TOH6plD9cyheuZQPRtFmzfBjrjh9wAAAABJRU5ErkJggg==\"/>\n<img class=\"element\" style=\"position: absolute; margin: 0; top: 6.0mm; left: 72.4mm;height: 17.6mm; width: 35.2mm;\" src=\"data:image/png;base64,iVBORw0KGgoAAAANSUhEUgAAAEAAAAAgCAIAAAAt/+nTAAAAc0lEQVRYCdXBAQEAAADBMIoq9xrCyWFzqJ45VM8cqmcO1TOH6plD9cyheuZQPXOonjlUzxyqZw7VM4fqmUP1zKF65lA9c6ieOVTPHKpnDtUzh+qZQ/XMoXrmUD1zqJ45VM8cqmcO1TOH6plD9cyheuZQPRtFmzfBjrjh9wAAAABJRU5ErkJggg==\"/>\n<img class=\"element\" style=\"position: absolute; margin: 0; top: 24.1mm; left: 0.0mm;height: 17.6mm; width: 35.2mm;\" src=\"data:image/png;base64,iVBORw0KGgoAAAANSUhEUgAAAEAAAAAgCAIAAAAt/+nTAAAAc0lEQVRYCdXBAQEAAADBMFoq+k5iyGFziZ65RM9comcu0TOX6JlL9MwleuYSPXOJnrlEz1yiZy7RM5fomUv0zCV65hI9c4meuUTPXKJnLtEzl+iZS/TMJXrmEj1ziZ65RM9comcu0TOX6JlL9MwleuYSPRtt9D7BlhD8BQAAAABJRU5ErkJggg==\"/>\n<img class=\"element\" style=\"position: absolute; margin: 0; top: 24.1mm; left: 36.2mm;height: 17.6mm; width: 35.2mm;\" src=\"data:image/png;base64,iVBORw0KGgoAAAANSUhEUgAAAEAAAAAgCAIAAAAt/+nTAAAAc0lEQVRYCdXBAQEAAADBMFoq+k5iyGFziZ65RM9comcu0TOX6JlL9MwleuYSPXOJnrlEz1yiZy7RM5fomUv0zCV65hI9c4meuUTPXKJnLtEzl+iZS/TMJXrmEj1ziZ65RM9comcu0TOX6JlL9MwleuYSPRtt9D7BlhD8BQAAAABJRU5ErkJggg==\"/>\n<img class=\"element\" style=\"position: absolute; margin: 0; top: 24.1mm; left: 72.4mm;height: 17.6mm; width: 35.2mm;\" src=\"data:image/png;base64,iVBORw0KGgoAAAANSUhEUgAAAEAAAAAgCAIAAAAt/+nTAAAAc0lEQVRYCdXBAQEAAADBMFoq+k5iyGFziZ65RM9comcu0TOX6JlL9MwleuYSPXOJnrlEz1yiZy7RM5fomUv0zCV65hI9c4meuUTPXKJnLtEzl+iZS/TMJXrmEj1ziZ65RM9comcu0TOX6JlL9MwleuYSPRtt9D7BlhD8BQAAAABJRU5ErkJggg==\"/>\n\n\n\n\n\n\n\n\n\n\n\n\n</div>\n\n</div>"
     },
     "metadata": {}
    }
   ],
   "source": [
    "c_lay.set_padding(top=6.) # = field_size (5.0) + offset (1.0) of reference title\n",
    "\n",
    "# generate figure\n",
    "figuregen.horizontal_figure([ref_grid, c_grid], width_cm=18., filename='figure.html')\n",
    "displayhtml(\"figure.html\")"
   ]
  },
  {
   "cell_type": "markdown",
   "metadata": {},
   "source": [
    "We can set markers (rectangles) on top of an image. In rendering, it is common practice to mark crops in a scene. "
   ]
  },
  {
   "cell_type": "code",
   "execution_count": 10,
   "metadata": {
    "scrolled": true
   },
   "outputs": [
    {
     "output_type": "display_data",
     "data": {
      "text/plain": "<IPython.core.display.HTML object>",
      "text/html": "<script src=\"./scripts/Chart.min.js\"></script>\n<div style='position: relative; background-color: white; width: 180.0mm; height: 41.7mm; ' > \n<div class=\"module\" style=\"position: absolute; top: 0mm; left: 0mm; width: 72.4mm; height: 41.7mm;\">\n<img class=\"element\" style=\"position: absolute; margin: 0; top: 6.0mm; left: 0.0mm;height: 35.7mm; width: 71.4mm;\" src=\"data:image/png;base64,iVBORw0KGgoAAAANSUhEUgAAAEAAAAAgCAIAAAAt/+nTAAAAc0lEQVRYCdXBAQEAAADBMCqK8JjSyWFziZ65RM9comcu0TOX6JlL9MwleuYSPXOJnrlEz1yiZy7RM5fomUv0zCV65hI9c4meuUTPXKJnLtEzl+iZS/TMJXrmEj1ziZ65RM9comcu0TOX6JlL9MwleuYSPRuT9i3hvkxsvgAAAABJRU5ErkJggg==\"/>\n<div class=\"element\" style=\"position: absolute; margin: 0; top: 19.387500000000003mm; left: 35.7mm; width: 16.028819mm; height: 10.450694mm; border: 1.0pt solid rgb(255,255,255);\"></div>\n<div class=\"element\" style=\"position: absolute; margin: 0; top: 7.115625mm; left: 1.115625mm; width: 16.028819mm; height: 10.450694mm; border: 1.0pt solid rgb(255,255,255);\"></div>\n\n\n<div class=\"title-container\" style=\"position: absolute; margin-top: 0; margin-bottom: 0;display: flex; align-items: center; justify-content: center; top: 0.0mm; left: 0.0mm; width: 71.4mm; height: 5.0mm;\">\n<p class=\"title-content\" style=\"margin-top: 0; margin-bottom: 0;text-align: center; color: rgb(0,0,0);; font-size: 12pt;\">My Title</p>\n</div>\n\n\n\n\n\n</div>\n<div class=\"module\" style=\"position: absolute; top: 0mm; left: 72.4mm; width: 107.60000000000001mm; height: 41.7mm;\">\n<img class=\"element\" style=\"position: absolute; margin: 0; top: 6.0mm; left: 0.0mm;height: 17.6mm; width: 35.2mm;\" src=\"data:image/png;base64,iVBORw0KGgoAAAANSUhEUgAAAEAAAAAgCAIAAAAt/+nTAAAAc0lEQVRYCdXBAQEAAADBMIoq9xrCyWFzqJ45VM8cqmcO1TOH6plD9cyheuZQPXOonjlUzxyqZw7VM4fqmUP1zKF65lA9c6ieOVTPHKpnDtUzh+qZQ/XMoXrmUD1zqJ45VM8cqmcO1TOH6plD9cyheuZQPRtFmzfBjrjh9wAAAABJRU5ErkJggg==\"/>\n<img class=\"element\" style=\"position: absolute; margin: 0; top: 6.0mm; left: 36.2mm;height: 17.6mm; width: 35.2mm;\" src=\"data:image/png;base64,iVBORw0KGgoAAAANSUhEUgAAAEAAAAAgCAIAAAAt/+nTAAAAc0lEQVRYCdXBAQEAAADBMIoq9xrCyWFzqJ45VM8cqmcO1TOH6plD9cyheuZQPXOonjlUzxyqZw7VM4fqmUP1zKF65lA9c6ieOVTPHKpnDtUzh+qZQ/XMoXrmUD1zqJ45VM8cqmcO1TOH6plD9cyheuZQPRtFmzfBjrjh9wAAAABJRU5ErkJggg==\"/>\n<img class=\"element\" style=\"position: absolute; margin: 0; top: 6.0mm; left: 72.4mm;height: 17.6mm; width: 35.2mm;\" src=\"data:image/png;base64,iVBORw0KGgoAAAANSUhEUgAAAEAAAAAgCAIAAAAt/+nTAAAAc0lEQVRYCdXBAQEAAADBMIoq9xrCyWFzqJ45VM8cqmcO1TOH6plD9cyheuZQPXOonjlUzxyqZw7VM4fqmUP1zKF65lA9c6ieOVTPHKpnDtUzh+qZQ/XMoXrmUD1zqJ45VM8cqmcO1TOH6plD9cyheuZQPRtFmzfBjrjh9wAAAABJRU5ErkJggg==\"/>\n<img class=\"element\" style=\"position: absolute; margin: 0; top: 24.1mm; left: 0.0mm;height: 17.6mm; width: 35.2mm;\" src=\"data:image/png;base64,iVBORw0KGgoAAAANSUhEUgAAAEAAAAAgCAIAAAAt/+nTAAAAc0lEQVRYCdXBAQEAAADBMFoq+k5iyGFziZ65RM9comcu0TOX6JlL9MwleuYSPXOJnrlEz1yiZy7RM5fomUv0zCV65hI9c4meuUTPXKJnLtEzl+iZS/TMJXrmEj1ziZ65RM9comcu0TOX6JlL9MwleuYSPRtt9D7BlhD8BQAAAABJRU5ErkJggg==\"/>\n<img class=\"element\" style=\"position: absolute; margin: 0; top: 24.1mm; left: 36.2mm;height: 17.6mm; width: 35.2mm;\" src=\"data:image/png;base64,iVBORw0KGgoAAAANSUhEUgAAAEAAAAAgCAIAAAAt/+nTAAAAc0lEQVRYCdXBAQEAAADBMFoq+k5iyGFziZ65RM9comcu0TOX6JlL9MwleuYSPXOJnrlEz1yiZy7RM5fomUv0zCV65hI9c4meuUTPXKJnLtEzl+iZS/TMJXrmEj1ziZ65RM9comcu0TOX6JlL9MwleuYSPRtt9D7BlhD8BQAAAABJRU5ErkJggg==\"/>\n<img class=\"element\" style=\"position: absolute; margin: 0; top: 24.1mm; left: 72.4mm;height: 17.6mm; width: 35.2mm;\" src=\"data:image/png;base64,iVBORw0KGgoAAAANSUhEUgAAAEAAAAAgCAIAAAAt/+nTAAAAc0lEQVRYCdXBAQEAAADBMFoq+k5iyGFziZ65RM9comcu0TOX6JlL9MwleuYSPXOJnrlEz1yiZy7RM5fomUv0zCV65hI9c4meuUTPXKJnLtEzl+iZS/TMJXrmEj1ziZ65RM9comcu0TOX6JlL9MwleuYSPRtt9D7BlhD8BQAAAABJRU5ErkJggg==\"/>\n\n\n\n\n\n\n\n\n\n\n\n\n</div>\n\n</div>"
     },
     "metadata": {}
    }
   ],
   "source": [
    "crops = [\n",
    "    util.image.Cropbox(left=32, top=12, height=10, width=15),\n",
    "    util.image.Cropbox(left=1, top=1, height=10, width=15)\n",
    "]\n",
    "\n",
    "ref_e = ref_grid.get_element(0,0)\n",
    "\n",
    "# set markers\n",
    "for crop in crops:\n",
    "    ref_e.set_marker(pos=crop.get_marker_pos(), size=crop.get_marker_size(), color=[255,255,255], linewidth_pt=1.0, is_dashed=False)\n",
    "\n",
    "# generate figure with LaTeX\n",
    "figuregen.horizontal_figure([ref_grid, c_grid], width_cm=18., filename='figure.html')\n",
    "displayhtml(\"figure.html\")"
   ]
  },
  {
   "cell_type": "markdown",
   "metadata": {},
   "source": [
    "Each element can have it's own caption, that is, a text below the image. For alignment reason, if one image of a grid has a caption, all other images of the same grid get an empty caption-placeholder."
   ]
  },
  {
   "cell_type": "code",
   "execution_count": 11,
   "metadata": {},
   "outputs": [
    {
     "output_type": "display_data",
     "data": {
      "text/plain": "<IPython.core.display.HTML object>",
      "text/html": "<script src=\"./scripts/Chart.min.js\"></script>\n<div style='position: relative; background-color: white; width: 180.0mm; height: 46.5mm; ' > \n<div class=\"module\" style=\"position: absolute; top: 0mm; left: 0mm; width: 82.0mm; height: 46.5mm;\">\n<img class=\"element\" style=\"position: absolute; margin: 0; top: 6.0mm; left: 0.0mm;height: 40.5mm; width: 81.0mm;\" src=\"data:image/png;base64,iVBORw0KGgoAAAANSUhEUgAAAEAAAAAgCAIAAAAt/+nTAAAAc0lEQVRYCdXBAQEAAADBMCqK8JjSyWFziZ65RM9comcu0TOX6JlL9MwleuYSPXOJnrlEz1yiZy7RM5fomUv0zCV65hI9c4meuUTPXKJnLtEzl+iZS/TMJXrmEj1ziZ65RM9comcu0TOX6JlL9MwleuYSPRuT9i3hvkxsvgAAAABJRU5ErkJggg==\"/>\n<div class=\"element\" style=\"position: absolute; margin: 0; top: 21.1875mm; left: 40.5mm; width: 18.278819mm; height: 11.950694mm; border: 1.0pt solid rgb(255,255,255);\"></div>\n<div class=\"element\" style=\"position: absolute; margin: 0; top: 7.265625mm; left: 1.265625mm; width: 18.278819mm; height: 11.950694mm; border: 1.0pt solid rgb(255,255,255);\"></div>\n\n\n<div class=\"title-container\" style=\"position: absolute; margin-top: 0; margin-bottom: 0;display: flex; align-items: center; justify-content: center; top: 0.0mm; left: 0.0mm; width: 81.0mm; height: 5.0mm;\">\n<p class=\"title-content\" style=\"margin-top: 0; margin-bottom: 0;text-align: center; color: rgb(0,0,0);; font-size: 12pt;\">My Title</p>\n</div>\n\n\n\n\n\n</div>\n<div class=\"module\" style=\"position: absolute; top: 0mm; left: 82.0mm; width: 98.0mm; height: 46.5mm;\">\n<img class=\"element\" style=\"position: absolute; margin: 0; top: 6.0mm; left: 0.0mm;height: 16.0mm; width: 32.0mm;\" src=\"data:image/png;base64,iVBORw0KGgoAAAANSUhEUgAAAEAAAAAgCAIAAAAt/+nTAAAAc0lEQVRYCdXBAQEAAADBMIoq9xrCyWFzqJ45VM8cqmcO1TOH6plD9cyheuZQPXOonjlUzxyqZw7VM4fqmUP1zKF65lA9c6ieOVTPHKpnDtUzh+qZQ/XMoXrmUD1zqJ45VM8cqmcO1TOH6plD9cyheuZQPRtFmzfBjrjh9wAAAABJRU5ErkJggg==\"/>\n<img class=\"element\" style=\"position: absolute; margin: 0; top: 6.0mm; left: 33.0mm;height: 16.0mm; width: 32.0mm;\" src=\"data:image/png;base64,iVBORw0KGgoAAAANSUhEUgAAAEAAAAAgCAIAAAAt/+nTAAAAc0lEQVRYCdXBAQEAAADBMIoq9xrCyWFzqJ45VM8cqmcO1TOH6plD9cyheuZQPXOonjlUzxyqZw7VM4fqmUP1zKF65lA9c6ieOVTPHKpnDtUzh+qZQ/XMoXrmUD1zqJ45VM8cqmcO1TOH6plD9cyheuZQPRtFmzfBjrjh9wAAAABJRU5ErkJggg==\"/>\n<img class=\"element\" style=\"position: absolute; margin: 0; top: 6.0mm; left: 66.0mm;height: 16.0mm; width: 32.0mm;\" src=\"data:image/png;base64,iVBORw0KGgoAAAANSUhEUgAAAEAAAAAgCAIAAAAt/+nTAAAAc0lEQVRYCdXBAQEAAADBMIoq9xrCyWFzqJ45VM8cqmcO1TOH6plD9cyheuZQPXOonjlUzxyqZw7VM4fqmUP1zKF65lA9c6ieOVTPHKpnDtUzh+qZQ/XMoXrmUD1zqJ45VM8cqmcO1TOH6plD9cyheuZQPRtFmzfBjrjh9wAAAABJRU5ErkJggg==\"/>\n<img class=\"element\" style=\"position: absolute; margin: 0; top: 26.5mm; left: 0.0mm;height: 16.0mm; width: 32.0mm;\" src=\"data:image/png;base64,iVBORw0KGgoAAAANSUhEUgAAAEAAAAAgCAIAAAAt/+nTAAAAc0lEQVRYCdXBAQEAAADBMFoq+k5iyGFziZ65RM9comcu0TOX6JlL9MwleuYSPXOJnrlEz1yiZy7RM5fomUv0zCV65hI9c4meuUTPXKJnLtEzl+iZS/TMJXrmEj1ziZ65RM9comcu0TOX6JlL9MwleuYSPRtt9D7BlhD8BQAAAABJRU5ErkJggg==\"/>\n<img class=\"element\" style=\"position: absolute; margin: 0; top: 26.5mm; left: 33.0mm;height: 16.0mm; width: 32.0mm;\" src=\"data:image/png;base64,iVBORw0KGgoAAAANSUhEUgAAAEAAAAAgCAIAAAAt/+nTAAAAc0lEQVRYCdXBAQEAAADBMFoq+k5iyGFziZ65RM9comcu0TOX6JlL9MwleuYSPXOJnrlEz1yiZy7RM5fomUv0zCV65hI9c4meuUTPXKJnLtEzl+iZS/TMJXrmEj1ziZ65RM9comcu0TOX6JlL9MwleuYSPRtt9D7BlhD8BQAAAABJRU5ErkJggg==\"/>\n<img class=\"element\" style=\"position: absolute; margin: 0; top: 26.5mm; left: 66.0mm;height: 16.0mm; width: 32.0mm;\" src=\"data:image/png;base64,iVBORw0KGgoAAAANSUhEUgAAAEAAAAAgCAIAAAAt/+nTAAAAc0lEQVRYCdXBAQEAAADBMFoq+k5iyGFziZ65RM9comcu0TOX6JlL9MwleuYSPXOJnrlEz1yiZy7RM5fomUv0zCV65hI9c4meuUTPXKJnLtEzl+iZS/TMJXrmEj1ziZ65RM9comcu0TOX6JlL9MwleuYSPRtt9D7BlhD8BQAAAABJRU5ErkJggg==\"/>\n<div class=\"title-container\" style=\"position: absolute; margin-top: 0; margin-bottom: 0;display: flex; align-items: center; justify-content: center; top: 22.0mm; left: 0.0mm; width: 32.0mm; height: 4.0mm;\">\n<p class=\"title-content\" style=\"margin-top: 0; margin-bottom: 0;text-align: center; color: rgb(170,170,170);; font-size: 9pt;\">hello</p>\n</div>\n\n<div class=\"title-container\" style=\"position: absolute; margin-top: 0; margin-bottom: 0;display: flex; align-items: center; justify-content: center; top: 22.0mm; left: 33.0mm; width: 32.0mm; height: 4.0mm;\">\n<p class=\"title-content\" style=\"margin-top: 0; margin-bottom: 0;text-align: center; color: rgb(170,170,170);; font-size: 9pt;\">hello</p>\n</div>\n\n<div class=\"title-container\" style=\"position: absolute; margin-top: 0; margin-bottom: 0;display: flex; align-items: center; justify-content: center; top: 22.0mm; left: 66.0mm; width: 32.0mm; height: 4.0mm;\">\n<p class=\"title-content\" style=\"margin-top: 0; margin-bottom: 0;text-align: center; color: rgb(170,170,170);; font-size: 9pt;\">hello</p>\n</div>\n\n<div class=\"title-container\" style=\"position: absolute; margin-top: 0; margin-bottom: 0;display: flex; align-items: center; justify-content: center; top: 42.5mm; left: 0.0mm; width: 32.0mm; height: 4.0mm;\">\n<p class=\"title-content\" style=\"margin-top: 0; margin-bottom: 0;text-align: center; color: rgb(170,170,170);; font-size: 9pt;\">bye</p>\n</div>\n\n<div class=\"title-container\" style=\"position: absolute; margin-top: 0; margin-bottom: 0;display: flex; align-items: center; justify-content: center; top: 42.5mm; left: 33.0mm; width: 32.0mm; height: 4.0mm;\">\n<p class=\"title-content\" style=\"margin-top: 0; margin-bottom: 0;text-align: center; color: rgb(170,170,170);; font-size: 9pt;\">bye</p>\n</div>\n\n<div class=\"title-container\" style=\"position: absolute; margin-top: 0; margin-bottom: 0;display: flex; align-items: center; justify-content: center; top: 42.5mm; left: 66.0mm; width: 32.0mm; height: 4.0mm;\">\n<p class=\"title-content\" style=\"margin-top: 0; margin-bottom: 0;text-align: center; color: rgb(170,170,170);; font-size: 9pt;\">bye</p>\n</div>\n\n\n\n\n\n\n\n</div>\n\n</div>"
     },
     "metadata": {}
    }
   ],
   "source": [
    "# subtitles/captions for each element\n",
    "for row in range(n_rows):\n",
    "    for col in range(n_cols):\n",
    "        if (row % 2) == 0: \n",
    "            c_grid.get_element(row, col).set_caption('hello')\n",
    "        else:\n",
    "            c_grid.get_element(row, col).set_caption('bye')\n",
    "\n",
    "c_lay.set_caption(height_mm=4.0, fontsize=9, txt_color=[170,170,170])\n",
    "\n",
    "# generate figure\n",
    "figuregen.horizontal_figure([ref_grid, c_grid], width_cm=18., filename='figure.html')\n",
    "displayhtml(\"figure.html\")"
   ]
  },
  {
   "cell_type": "markdown",
   "metadata": {},
   "source": [
    "Labels can be placed on top of images. Each image has 6 label positions: \"top_left\", \"top_center\", \"top_right\", \"bottom_left\", etc. "
   ]
  },
  {
   "cell_type": "code",
   "execution_count": 12,
   "metadata": {},
   "outputs": [
    {
     "output_type": "display_data",
     "data": {
      "text/plain": "<IPython.core.display.HTML object>",
      "text/html": "<script src=\"./scripts/Chart.min.js\"></script>\n<div style='position: relative; background-color: white; width: 180.0mm; height: 46.5mm; ' > \n<div class=\"module\" style=\"position: absolute; top: 0mm; left: 0mm; width: 82.0mm; height: 46.5mm;\">\n<img class=\"element\" style=\"position: absolute; margin: 0; top: 6.0mm; left: 0.0mm;height: 40.5mm; width: 81.0mm;\" src=\"data:image/png;base64,iVBORw0KGgoAAAANSUhEUgAAAEAAAAAgCAIAAAAt/+nTAAAAc0lEQVRYCdXBAQEAAADBMCqK8JjSyWFziZ65RM9comcu0TOX6JlL9MwleuYSPXOJnrlEz1yiZy7RM5fomUv0zCV65hI9c4meuUTPXKJnLtEzl+iZS/TMJXrmEj1ziZ65RM9comcu0TOX6JlL9MwleuYSPRuT9i3hvkxsvgAAAABJRU5ErkJggg==\"/>\n<div class=\"element\" style=\"position: absolute; margin: 0; top: 21.1875mm; left: 40.5mm; width: 18.278819mm; height: 11.950694mm; border: 1.0pt solid rgb(255,255,255);\"></div>\n<div class=\"element\" style=\"position: absolute; margin: 0; top: 7.265625mm; left: 1.265625mm; width: 18.278819mm; height: 11.950694mm; border: 1.0pt solid rgb(255,255,255);\"></div>\n\n\n<div class=\"title-container\" style=\"position: absolute; margin-top: 0; margin-bottom: 0;display: flex; align-items: center; justify-content: center; top: 0.0mm; left: 0.0mm; width: 81.0mm; height: 5.0mm;\">\n<p class=\"title-content\" style=\"margin-top: 0; margin-bottom: 0;text-align: center; color: rgb(0,0,0);; font-size: 12pt;\">My Title</p>\n</div>\n\n\n\n\n\n</div>\n<div class=\"module\" style=\"position: absolute; top: 0mm; left: 82.0mm; width: 98.0mm; height: 46.5mm;\">\n<img class=\"element\" style=\"position: absolute; margin: 0; top: 6.0mm; left: 0.0mm;height: 16.0mm; width: 32.0mm;\" src=\"data:image/png;base64,iVBORw0KGgoAAAANSUhEUgAAAEAAAAAgCAIAAAAt/+nTAAAAc0lEQVRYCdXBAQEAAADBMIoq9xrCyWFzqJ45VM8cqmcO1TOH6plD9cyheuZQPXOonjlUzxyqZw7VM4fqmUP1zKF65lA9c6ieOVTPHKpnDtUzh+qZQ/XMoXrmUD1zqJ45VM8cqmcO1TOH6plD9cyheuZQPRtFmzfBjrjh9wAAAABJRU5ErkJggg==\"/>\n<img class=\"element\" style=\"position: absolute; margin: 0; top: 6.0mm; left: 33.0mm;height: 16.0mm; width: 32.0mm;\" src=\"data:image/png;base64,iVBORw0KGgoAAAANSUhEUgAAAEAAAAAgCAIAAAAt/+nTAAAAc0lEQVRYCdXBAQEAAADBMIoq9xrCyWFzqJ45VM8cqmcO1TOH6plD9cyheuZQPXOonjlUzxyqZw7VM4fqmUP1zKF65lA9c6ieOVTPHKpnDtUzh+qZQ/XMoXrmUD1zqJ45VM8cqmcO1TOH6plD9cyheuZQPRtFmzfBjrjh9wAAAABJRU5ErkJggg==\"/>\n<img class=\"element\" style=\"position: absolute; margin: 0; top: 6.0mm; left: 66.0mm;height: 16.0mm; width: 32.0mm;\" src=\"data:image/png;base64,iVBORw0KGgoAAAANSUhEUgAAAEAAAAAgCAIAAAAt/+nTAAAAc0lEQVRYCdXBAQEAAADBMIoq9xrCyWFzqJ45VM8cqmcO1TOH6plD9cyheuZQPXOonjlUzxyqZw7VM4fqmUP1zKF65lA9c6ieOVTPHKpnDtUzh+qZQ/XMoXrmUD1zqJ45VM8cqmcO1TOH6plD9cyheuZQPRtFmzfBjrjh9wAAAABJRU5ErkJggg==\"/>\n<img class=\"element\" style=\"position: absolute; margin: 0; top: 26.5mm; left: 0.0mm;height: 16.0mm; width: 32.0mm;\" src=\"data:image/png;base64,iVBORw0KGgoAAAANSUhEUgAAAEAAAAAgCAIAAAAt/+nTAAAAc0lEQVRYCdXBAQEAAADBMFoq+k5iyGFziZ65RM9comcu0TOX6JlL9MwleuYSPXOJnrlEz1yiZy7RM5fomUv0zCV65hI9c4meuUTPXKJnLtEzl+iZS/TMJXrmEj1ziZ65RM9comcu0TOX6JlL9MwleuYSPRtt9D7BlhD8BQAAAABJRU5ErkJggg==\"/>\n<img class=\"element\" style=\"position: absolute; margin: 0; top: 26.5mm; left: 33.0mm;height: 16.0mm; width: 32.0mm;\" src=\"data:image/png;base64,iVBORw0KGgoAAAANSUhEUgAAAEAAAAAgCAIAAAAt/+nTAAAAc0lEQVRYCdXBAQEAAADBMFoq+k5iyGFziZ65RM9comcu0TOX6JlL9MwleuYSPXOJnrlEz1yiZy7RM5fomUv0zCV65hI9c4meuUTPXKJnLtEzl+iZS/TMJXrmEj1ziZ65RM9comcu0TOX6JlL9MwleuYSPRtt9D7BlhD8BQAAAABJRU5ErkJggg==\"/>\n<div class=\"title-container\" style=\"position: absolute; margin-top: 0; margin-bottom: 0;display: flex; align-items: center; justify-content: center; top: 27.5mm; left: 34.0mm; width: 8.0mm; height: 7.0mm;justify-content: flex-start; background-color: rgb(186,98,82);\">\n<p style=\"width: 1.0mm\"></p>\n<p class=\"title-content\" style=\"margin-top: 0; margin-bottom: 0;text-align: left; color: rgb(255,255,255);; font-size: 9pt;\">top<br/>left</p>\n</div>\n<div class=\"title-container\" style=\"position: absolute; margin-top: 0; margin-bottom: 0;display: flex; align-items: center; justify-content: center; top: 27.5mm; left: 56.0mm; width: 8.0mm; height: 7.0mm;justify-content: flex-end; background-color: rgb(255,255,255);\">\n<p class=\"title-content\" style=\"margin-top: 0; margin-bottom: 0;text-align: right; color: rgb(0,0,0);; font-size: 9pt;\">top<br/>right</p>\n<p style=\"width: 1.0mm\"></p>\n</div>\n<div class=\"title-container\" style=\"position: absolute; margin-top: 0; margin-bottom: 0;display: flex; align-items: center; justify-content: center; top: 37.5mm; left: 36.5mm; width: 25.0mm; height: 4.0mm;\">\n<p class=\"title-content\" style=\"margin-top: 0; margin-bottom: 0;text-align: center; color: rgb(0,0,0);; font-size: 9pt;\">bottom center</p>\n</div>\n<img class=\"element\" style=\"position: absolute; margin: 0; top: 26.5mm; left: 66.0mm;height: 16.0mm; width: 32.0mm;\" src=\"data:image/png;base64,iVBORw0KGgoAAAANSUhEUgAAAEAAAAAgCAIAAAAt/+nTAAAAc0lEQVRYCdXBAQEAAADBMFoq+k5iyGFziZ65RM9comcu0TOX6JlL9MwleuYSPXOJnrlEz1yiZy7RM5fomUv0zCV65hI9c4meuUTPXKJnLtEzl+iZS/TMJXrmEj1ziZ65RM9comcu0TOX6JlL9MwleuYSPRtt9D7BlhD8BQAAAABJRU5ErkJggg==\"/>\n<div class=\"title-container\" style=\"position: absolute; margin-top: 0; margin-bottom: 0;display: flex; align-items: center; justify-content: center; top: 22.0mm; left: 0.0mm; width: 32.0mm; height: 4.0mm;\">\n<p class=\"title-content\" style=\"margin-top: 0; margin-bottom: 0;text-align: center; color: rgb(170,170,170);; font-size: 9pt;\">hello</p>\n</div>\n\n<div class=\"title-container\" style=\"position: absolute; margin-top: 0; margin-bottom: 0;display: flex; align-items: center; justify-content: center; top: 22.0mm; left: 33.0mm; width: 32.0mm; height: 4.0mm;\">\n<p class=\"title-content\" style=\"margin-top: 0; margin-bottom: 0;text-align: center; color: rgb(170,170,170);; font-size: 9pt;\">hello</p>\n</div>\n\n<div class=\"title-container\" style=\"position: absolute; margin-top: 0; margin-bottom: 0;display: flex; align-items: center; justify-content: center; top: 22.0mm; left: 66.0mm; width: 32.0mm; height: 4.0mm;\">\n<p class=\"title-content\" style=\"margin-top: 0; margin-bottom: 0;text-align: center; color: rgb(170,170,170);; font-size: 9pt;\">hello</p>\n</div>\n\n<div class=\"title-container\" style=\"position: absolute; margin-top: 0; margin-bottom: 0;display: flex; align-items: center; justify-content: center; top: 42.5mm; left: 0.0mm; width: 32.0mm; height: 4.0mm;\">\n<p class=\"title-content\" style=\"margin-top: 0; margin-bottom: 0;text-align: center; color: rgb(170,170,170);; font-size: 9pt;\">bye</p>\n</div>\n\n<div class=\"title-container\" style=\"position: absolute; margin-top: 0; margin-bottom: 0;display: flex; align-items: center; justify-content: center; top: 42.5mm; left: 33.0mm; width: 32.0mm; height: 4.0mm;\">\n<p class=\"title-content\" style=\"margin-top: 0; margin-bottom: 0;text-align: center; color: rgb(170,170,170);; font-size: 9pt;\">bye</p>\n</div>\n\n<div class=\"title-container\" style=\"position: absolute; margin-top: 0; margin-bottom: 0;display: flex; align-items: center; justify-content: center; top: 42.5mm; left: 66.0mm; width: 32.0mm; height: 4.0mm;\">\n<p class=\"title-content\" style=\"margin-top: 0; margin-bottom: 0;text-align: center; color: rgb(170,170,170);; font-size: 9pt;\">bye</p>\n</div>\n\n\n\n\n\n\n\n</div>\n\n</div>"
     },
     "metadata": {}
    }
   ],
   "source": [
    "# labels (examples, each element can have in total 6 labels on each valid position)\n",
    "e1 = c_grid.get_element(1,1)\n",
    "e1.set_label(\"bottom center\", pos='bottom_center', width_mm=25., height_mm=4.0, offset_mm=[1.0, 1.0], \n",
    "                  fontsize=9, bg_color=None)\n",
    "e1.set_label(\"top\\\\\\\\right\", pos='top_right', width_mm=8., height_mm=7.0, offset_mm=[1.0, 1.0], \n",
    "                  fontsize=9, bg_color=[255,255,255])\n",
    "e1.set_label(r\"top\\\\left\", pos='top_left', width_mm=8., height_mm=7.0, offset_mm=[1.0, 1.0], \n",
    "                  fontsize=9, bg_color=orange, txt_color=[255,255,255])\n",
    "\n",
    "# generate figure\n",
    "figuregen.horizontal_figure([ref_grid, c_grid], width_cm=18., filename='figure.html')\n",
    "displayhtml(\"figure.html\")"
   ]
  },
  {
   "cell_type": "markdown",
   "metadata": {},
   "source": [
    "Like module titles we can define row or column titles, by providing a list of strings."
   ]
  },
  {
   "cell_type": "code",
   "execution_count": 13,
   "metadata": {},
   "outputs": [
    {
     "output_type": "display_data",
     "data": {
      "text/plain": "<IPython.core.display.HTML object>",
      "text/html": "<script src=\"./scripts/Chart.min.js\"></script>\n<div style='position: relative; background-color: white; width: 180.0mm; height: 44.3mm; ' > \n<div class=\"module\" style=\"position: absolute; top: 0mm; left: 0mm; width: 77.6mm; height: 44.3mm;\">\n<img class=\"element\" style=\"position: absolute; margin: 0; top: 6.0mm; left: 0.0mm;height: 38.3mm; width: 76.6mm;\" src=\"data:image/png;base64,iVBORw0KGgoAAAANSUhEUgAAAEAAAAAgCAIAAAAt/+nTAAAAc0lEQVRYCdXBAQEAAADBMCqK8JjSyWFziZ65RM9comcu0TOX6JlL9MwleuYSPXOJnrlEz1yiZy7RM5fomUv0zCV65hI9c4meuUTPXKJnLtEzl+iZS/TMJXrmEj1ziZ65RM9comcu0TOX6JlL9MwleuYSPRuT9i3hvkxsvgAAAABJRU5ErkJggg==\"/>\n<div class=\"element\" style=\"position: absolute; margin: 0; top: 20.362499999999997mm; left: 38.3mm; width: 17.247569mm; height: 11.263194mm; border: 1.0pt solid rgb(255,255,255);\"></div>\n<div class=\"element\" style=\"position: absolute; margin: 0; top: 7.196875mm; left: 1.196875mm; width: 17.247569mm; height: 11.263194mm; border: 1.0pt solid rgb(255,255,255);\"></div>\n\n\n<div class=\"title-container\" style=\"position: absolute; margin-top: 0; margin-bottom: 0;display: flex; align-items: center; justify-content: center; top: 0.0mm; left: 0.0mm; width: 76.6mm; height: 5.0mm;\">\n<p class=\"title-content\" style=\"margin-top: 0; margin-bottom: 0;text-align: center; color: rgb(0,0,0);; font-size: 12pt;\">My Title</p>\n</div>\n\n\n\n\n\n</div>\n<div class=\"module\" style=\"position: absolute; top: 0mm; left: 77.6mm; width: 102.39999999999999mm; height: 44.3mm;\">\n<img class=\"element\" style=\"position: absolute; margin: 0; top: 6.0mm; left: 11.0mm;height: 14.899999999999999mm; width: 29.799999999999997mm;\" src=\"data:image/png;base64,iVBORw0KGgoAAAANSUhEUgAAAEAAAAAgCAIAAAAt/+nTAAAAc0lEQVRYCdXBAQEAAADBMIoq9xrCyWFzqJ45VM8cqmcO1TOH6plD9cyheuZQPXOonjlUzxyqZw7VM4fqmUP1zKF65lA9c6ieOVTPHKpnDtUzh+qZQ/XMoXrmUD1zqJ45VM8cqmcO1TOH6plD9cyheuZQPRtFmzfBjrjh9wAAAABJRU5ErkJggg==\"/>\n<img class=\"element\" style=\"position: absolute; margin: 0; top: 6.0mm; left: 41.8mm;height: 14.899999999999999mm; width: 29.799999999999997mm;\" src=\"data:image/png;base64,iVBORw0KGgoAAAANSUhEUgAAAEAAAAAgCAIAAAAt/+nTAAAAc0lEQVRYCdXBAQEAAADBMIoq9xrCyWFzqJ45VM8cqmcO1TOH6plD9cyheuZQPXOonjlUzxyqZw7VM4fqmUP1zKF65lA9c6ieOVTPHKpnDtUzh+qZQ/XMoXrmUD1zqJ45VM8cqmcO1TOH6plD9cyheuZQPRtFmzfBjrjh9wAAAABJRU5ErkJggg==\"/>\n<img class=\"element\" style=\"position: absolute; margin: 0; top: 6.0mm; left: 72.6mm;height: 14.899999999999999mm; width: 29.799999999999997mm;\" src=\"data:image/png;base64,iVBORw0KGgoAAAANSUhEUgAAAEAAAAAgCAIAAAAt/+nTAAAAc0lEQVRYCdXBAQEAAADBMIoq9xrCyWFzqJ45VM8cqmcO1TOH6plD9cyheuZQPXOonjlUzxyqZw7VM4fqmUP1zKF65lA9c6ieOVTPHKpnDtUzh+qZQ/XMoXrmUD1zqJ45VM8cqmcO1TOH6plD9cyheuZQPRtFmzfBjrjh9wAAAABJRU5ErkJggg==\"/>\n<img class=\"element\" style=\"position: absolute; margin: 0; top: 25.4mm; left: 11.0mm;height: 14.899999999999999mm; width: 29.799999999999997mm;\" src=\"data:image/png;base64,iVBORw0KGgoAAAANSUhEUgAAAEAAAAAgCAIAAAAt/+nTAAAAc0lEQVRYCdXBAQEAAADBMFoq+k5iyGFziZ65RM9comcu0TOX6JlL9MwleuYSPXOJnrlEz1yiZy7RM5fomUv0zCV65hI9c4meuUTPXKJnLtEzl+iZS/TMJXrmEj1ziZ65RM9comcu0TOX6JlL9MwleuYSPRtt9D7BlhD8BQAAAABJRU5ErkJggg==\"/>\n<img class=\"element\" style=\"position: absolute; margin: 0; top: 25.4mm; left: 41.8mm;height: 14.899999999999999mm; width: 29.799999999999997mm;\" src=\"data:image/png;base64,iVBORw0KGgoAAAANSUhEUgAAAEAAAAAgCAIAAAAt/+nTAAAAc0lEQVRYCdXBAQEAAADBMFoq+k5iyGFziZ65RM9comcu0TOX6JlL9MwleuYSPXOJnrlEz1yiZy7RM5fomUv0zCV65hI9c4meuUTPXKJnLtEzl+iZS/TMJXrmEj1ziZ65RM9comcu0TOX6JlL9MwleuYSPRtt9D7BlhD8BQAAAABJRU5ErkJggg==\"/>\n<div class=\"title-container\" style=\"position: absolute; margin-top: 0; margin-bottom: 0;display: flex; align-items: center; justify-content: center; top: 26.4mm; left: 42.8mm; width: 8.0mm; height: 7.0mm;justify-content: flex-start; background-color: rgb(186,98,82);\">\n<p style=\"width: 1.0mm\"></p>\n<p class=\"title-content\" style=\"margin-top: 0; margin-bottom: 0;text-align: left; color: rgb(255,255,255);; font-size: 9pt;\">top<br/>left</p>\n</div>\n<div class=\"title-container\" style=\"position: absolute; margin-top: 0; margin-bottom: 0;display: flex; align-items: center; justify-content: center; top: 26.4mm; left: 62.599999999999994mm; width: 8.0mm; height: 7.0mm;justify-content: flex-end; background-color: rgb(255,255,255);\">\n<p class=\"title-content\" style=\"margin-top: 0; margin-bottom: 0;text-align: right; color: rgb(0,0,0);; font-size: 9pt;\">top<br/>right</p>\n<p style=\"width: 1.0mm\"></p>\n</div>\n<div class=\"title-container\" style=\"position: absolute; margin-top: 0; margin-bottom: 0;display: flex; align-items: center; justify-content: center; top: 35.3mm; left: 44.199999999999996mm; width: 25.0mm; height: 4.0mm;\">\n<p class=\"title-content\" style=\"margin-top: 0; margin-bottom: 0;text-align: center; color: rgb(0,0,0);; font-size: 9pt;\">bottom center</p>\n</div>\n<img class=\"element\" style=\"position: absolute; margin: 0; top: 25.4mm; left: 72.6mm;height: 14.899999999999999mm; width: 29.799999999999997mm;\" src=\"data:image/png;base64,iVBORw0KGgoAAAANSUhEUgAAAEAAAAAgCAIAAAAt/+nTAAAAc0lEQVRYCdXBAQEAAADBMFoq+k5iyGFziZ65RM9comcu0TOX6JlL9MwleuYSPXOJnrlEz1yiZy7RM5fomUv0zCV65hI9c4meuUTPXKJnLtEzl+iZS/TMJXrmEj1ziZ65RM9comcu0TOX6JlL9MwleuYSPRtt9D7BlhD8BQAAAABJRU5ErkJggg==\"/>\n<div class=\"title-container\" style=\"position: absolute; margin-top: 0; margin-bottom: 0;display: flex; align-items: center; justify-content: center; top: 20.9mm; left: 11.0mm; width: 29.799999999999997mm; height: 4.0mm;\">\n<p class=\"title-content\" style=\"margin-top: 0; margin-bottom: 0;text-align: center; color: rgb(170,170,170);; font-size: 9pt;\">hello</p>\n</div>\n\n<div class=\"title-container\" style=\"position: absolute; margin-top: 0; margin-bottom: 0;display: flex; align-items: center; justify-content: center; top: 20.9mm; left: 41.8mm; width: 29.799999999999997mm; height: 4.0mm;\">\n<p class=\"title-content\" style=\"margin-top: 0; margin-bottom: 0;text-align: center; color: rgb(170,170,170);; font-size: 9pt;\">hello</p>\n</div>\n\n<div class=\"title-container\" style=\"position: absolute; margin-top: 0; margin-bottom: 0;display: flex; align-items: center; justify-content: center; top: 20.9mm; left: 72.6mm; width: 29.799999999999997mm; height: 4.0mm;\">\n<p class=\"title-content\" style=\"margin-top: 0; margin-bottom: 0;text-align: center; color: rgb(170,170,170);; font-size: 9pt;\">hello</p>\n</div>\n\n<div class=\"title-container\" style=\"position: absolute; margin-top: 0; margin-bottom: 0;display: flex; align-items: center; justify-content: center; top: 40.3mm; left: 11.0mm; width: 29.799999999999997mm; height: 4.0mm;\">\n<p class=\"title-content\" style=\"margin-top: 0; margin-bottom: 0;text-align: center; color: rgb(170,170,170);; font-size: 9pt;\">bye</p>\n</div>\n\n<div class=\"title-container\" style=\"position: absolute; margin-top: 0; margin-bottom: 0;display: flex; align-items: center; justify-content: center; top: 40.3mm; left: 41.8mm; width: 29.799999999999997mm; height: 4.0mm;\">\n<p class=\"title-content\" style=\"margin-top: 0; margin-bottom: 0;text-align: center; color: rgb(170,170,170);; font-size: 9pt;\">bye</p>\n</div>\n\n<div class=\"title-container\" style=\"position: absolute; margin-top: 0; margin-bottom: 0;display: flex; align-items: center; justify-content: center; top: 40.3mm; left: 72.6mm; width: 29.799999999999997mm; height: 4.0mm;\">\n<p class=\"title-content\" style=\"margin-top: 0; margin-bottom: 0;text-align: center; color: rgb(170,170,170);; font-size: 9pt;\">bye</p>\n</div>\n\n\n\n<div class=\"title-container\" style=\"position: absolute; margin-top: 0; margin-bottom: 0;display: flex; align-items: center; justify-content: center; top: 6.0mm; left: 0.0mm; width: 10.0mm; height: 14.899999999999999mm;background-color: rgb(82,110,186);\">\n<p class=\"title-content\" style=\"margin-top: 0; margin-bottom: 0;text-align: center; color: rgb(0,0,0);; font-size: 9pt;\">Row Titles</p>\n</div>\n\n<div class=\"title-container\" style=\"position: absolute; margin-top: 0; margin-bottom: 0;display: flex; align-items: center; justify-content: center; top: 25.4mm; left: 0.0mm; width: 10.0mm; height: 14.899999999999999mm;background-color: rgb(94,163,188);\">\n<p class=\"title-content\" style=\"margin-top: 0; margin-bottom: 0;text-align: center; color: rgb(0,0,0);; font-size: 9pt;\">are better</p>\n</div>\n\n\n\n\n\n</div>\n\n</div>"
     },
     "metadata": {}
    }
   ],
   "source": [
    "c_grid.set_row_titles('left', ['Row Titles', 'are better'])\n",
    "c_lay.set_row_titles('left', field_size_mm=10., offset_mm=1., fontsize=9, txt_rotation=0, bg_color=[blue, l_blue])\n",
    "\n",
    "# create figure\n",
    "figuregen.horizontal_figure([ref_grid, c_grid], width_cm=18., filename='figure.html')\n",
    "displayhtml(\"figure.html\")"
   ]
  },
  {
   "source": [
    "Now, we will show you how you can put modules on top of each other (vertical stack).\n"
   ],
   "cell_type": "markdown",
   "metadata": {}
  },
  {
   "cell_type": "code",
   "execution_count": 14,
   "metadata": {},
   "outputs": [
    {
     "output_type": "display_data",
     "data": {
      "text/plain": "<IPython.core.display.HTML object>",
      "text/html": "<script src=\"./scripts/Chart.min.js\"></script>\n<div style='position: relative; background-color: white; width: 180.0mm; height: 88.6mm; ' > \n<div class=\"module\" style=\"position: absolute; top: 0mm; left: 0mm; width: 77.6mm; height: 44.3mm;\">\n<img class=\"element\" style=\"position: absolute; margin: 0; top: 6.0mm; left: 0.0mm;height: 38.3mm; width: 76.6mm;\" src=\"data:image/png;base64,iVBORw0KGgoAAAANSUhEUgAAAEAAAAAgCAIAAAAt/+nTAAAAc0lEQVRYCdXBAQEAAADBMCqK8JjSyWFziZ65RM9comcu0TOX6JlL9MwleuYSPXOJnrlEz1yiZy7RM5fomUv0zCV65hI9c4meuUTPXKJnLtEzl+iZS/TMJXrmEj1ziZ65RM9comcu0TOX6JlL9MwleuYSPRuT9i3hvkxsvgAAAABJRU5ErkJggg==\"/>\n<div class=\"element\" style=\"position: absolute; margin: 0; top: 20.362499999999997mm; left: 38.3mm; width: 17.247569mm; height: 11.263194mm; border: 1.0pt solid rgb(255,255,255);\"></div>\n<div class=\"element\" style=\"position: absolute; margin: 0; top: 7.196875mm; left: 1.196875mm; width: 17.247569mm; height: 11.263194mm; border: 1.0pt solid rgb(255,255,255);\"></div>\n\n\n<div class=\"title-container\" style=\"position: absolute; margin-top: 0; margin-bottom: 0;display: flex; align-items: center; justify-content: center; top: 0.0mm; left: 0.0mm; width: 76.6mm; height: 5.0mm;\">\n<p class=\"title-content\" style=\"margin-top: 0; margin-bottom: 0;text-align: center; color: rgb(0,0,0);; font-size: 12pt;\">My Title</p>\n</div>\n\n\n\n\n\n</div>\n<div class=\"module\" style=\"position: absolute; top: 0mm; left: 77.6mm; width: 102.39999999999999mm; height: 44.3mm;\">\n<img class=\"element\" style=\"position: absolute; margin: 0; top: 6.0mm; left: 11.0mm;height: 14.899999999999999mm; width: 29.799999999999997mm;\" src=\"data:image/png;base64,iVBORw0KGgoAAAANSUhEUgAAAEAAAAAgCAIAAAAt/+nTAAAAc0lEQVRYCdXBAQEAAADBMIoq9xrCyWFzqJ45VM8cqmcO1TOH6plD9cyheuZQPXOonjlUzxyqZw7VM4fqmUP1zKF65lA9c6ieOVTPHKpnDtUzh+qZQ/XMoXrmUD1zqJ45VM8cqmcO1TOH6plD9cyheuZQPRtFmzfBjrjh9wAAAABJRU5ErkJggg==\"/>\n<img class=\"element\" style=\"position: absolute; margin: 0; top: 6.0mm; left: 41.8mm;height: 14.899999999999999mm; width: 29.799999999999997mm;\" src=\"data:image/png;base64,iVBORw0KGgoAAAANSUhEUgAAAEAAAAAgCAIAAAAt/+nTAAAAc0lEQVRYCdXBAQEAAADBMIoq9xrCyWFzqJ45VM8cqmcO1TOH6plD9cyheuZQPXOonjlUzxyqZw7VM4fqmUP1zKF65lA9c6ieOVTPHKpnDtUzh+qZQ/XMoXrmUD1zqJ45VM8cqmcO1TOH6plD9cyheuZQPRtFmzfBjrjh9wAAAABJRU5ErkJggg==\"/>\n<img class=\"element\" style=\"position: absolute; margin: 0; top: 6.0mm; left: 72.6mm;height: 14.899999999999999mm; width: 29.799999999999997mm;\" src=\"data:image/png;base64,iVBORw0KGgoAAAANSUhEUgAAAEAAAAAgCAIAAAAt/+nTAAAAc0lEQVRYCdXBAQEAAADBMIoq9xrCyWFzqJ45VM8cqmcO1TOH6plD9cyheuZQPXOonjlUzxyqZw7VM4fqmUP1zKF65lA9c6ieOVTPHKpnDtUzh+qZQ/XMoXrmUD1zqJ45VM8cqmcO1TOH6plD9cyheuZQPRtFmzfBjrjh9wAAAABJRU5ErkJggg==\"/>\n<img class=\"element\" style=\"position: absolute; margin: 0; top: 25.4mm; left: 11.0mm;height: 14.899999999999999mm; width: 29.799999999999997mm;\" src=\"data:image/png;base64,iVBORw0KGgoAAAANSUhEUgAAAEAAAAAgCAIAAAAt/+nTAAAAc0lEQVRYCdXBAQEAAADBMFoq+k5iyGFziZ65RM9comcu0TOX6JlL9MwleuYSPXOJnrlEz1yiZy7RM5fomUv0zCV65hI9c4meuUTPXKJnLtEzl+iZS/TMJXrmEj1ziZ65RM9comcu0TOX6JlL9MwleuYSPRtt9D7BlhD8BQAAAABJRU5ErkJggg==\"/>\n<img class=\"element\" style=\"position: absolute; margin: 0; top: 25.4mm; left: 41.8mm;height: 14.899999999999999mm; width: 29.799999999999997mm;\" src=\"data:image/png;base64,iVBORw0KGgoAAAANSUhEUgAAAEAAAAAgCAIAAAAt/+nTAAAAc0lEQVRYCdXBAQEAAADBMFoq+k5iyGFziZ65RM9comcu0TOX6JlL9MwleuYSPXOJnrlEz1yiZy7RM5fomUv0zCV65hI9c4meuUTPXKJnLtEzl+iZS/TMJXrmEj1ziZ65RM9comcu0TOX6JlL9MwleuYSPRtt9D7BlhD8BQAAAABJRU5ErkJggg==\"/>\n<div class=\"title-container\" style=\"position: absolute; margin-top: 0; margin-bottom: 0;display: flex; align-items: center; justify-content: center; top: 26.4mm; left: 42.8mm; width: 8.0mm; height: 7.0mm;justify-content: flex-start; background-color: rgb(186,98,82);\">\n<p style=\"width: 1.0mm\"></p>\n<p class=\"title-content\" style=\"margin-top: 0; margin-bottom: 0;text-align: left; color: rgb(255,255,255);; font-size: 9pt;\">top<br/>left</p>\n</div>\n<div class=\"title-container\" style=\"position: absolute; margin-top: 0; margin-bottom: 0;display: flex; align-items: center; justify-content: center; top: 26.4mm; left: 62.599999999999994mm; width: 8.0mm; height: 7.0mm;justify-content: flex-end; background-color: rgb(255,255,255);\">\n<p class=\"title-content\" style=\"margin-top: 0; margin-bottom: 0;text-align: right; color: rgb(0,0,0);; font-size: 9pt;\">top<br/>right</p>\n<p style=\"width: 1.0mm\"></p>\n</div>\n<div class=\"title-container\" style=\"position: absolute; margin-top: 0; margin-bottom: 0;display: flex; align-items: center; justify-content: center; top: 35.3mm; left: 44.199999999999996mm; width: 25.0mm; height: 4.0mm;\">\n<p class=\"title-content\" style=\"margin-top: 0; margin-bottom: 0;text-align: center; color: rgb(0,0,0);; font-size: 9pt;\">bottom center</p>\n</div>\n<img class=\"element\" style=\"position: absolute; margin: 0; top: 25.4mm; left: 72.6mm;height: 14.899999999999999mm; width: 29.799999999999997mm;\" src=\"data:image/png;base64,iVBORw0KGgoAAAANSUhEUgAAAEAAAAAgCAIAAAAt/+nTAAAAc0lEQVRYCdXBAQEAAADBMFoq+k5iyGFziZ65RM9comcu0TOX6JlL9MwleuYSPXOJnrlEz1yiZy7RM5fomUv0zCV65hI9c4meuUTPXKJnLtEzl+iZS/TMJXrmEj1ziZ65RM9comcu0TOX6JlL9MwleuYSPRtt9D7BlhD8BQAAAABJRU5ErkJggg==\"/>\n<div class=\"title-container\" style=\"position: absolute; margin-top: 0; margin-bottom: 0;display: flex; align-items: center; justify-content: center; top: 20.9mm; left: 11.0mm; width: 29.799999999999997mm; height: 4.0mm;\">\n<p class=\"title-content\" style=\"margin-top: 0; margin-bottom: 0;text-align: center; color: rgb(170,170,170);; font-size: 9pt;\">hello</p>\n</div>\n\n<div class=\"title-container\" style=\"position: absolute; margin-top: 0; margin-bottom: 0;display: flex; align-items: center; justify-content: center; top: 20.9mm; left: 41.8mm; width: 29.799999999999997mm; height: 4.0mm;\">\n<p class=\"title-content\" style=\"margin-top: 0; margin-bottom: 0;text-align: center; color: rgb(170,170,170);; font-size: 9pt;\">hello</p>\n</div>\n\n<div class=\"title-container\" style=\"position: absolute; margin-top: 0; margin-bottom: 0;display: flex; align-items: center; justify-content: center; top: 20.9mm; left: 72.6mm; width: 29.799999999999997mm; height: 4.0mm;\">\n<p class=\"title-content\" style=\"margin-top: 0; margin-bottom: 0;text-align: center; color: rgb(170,170,170);; font-size: 9pt;\">hello</p>\n</div>\n\n<div class=\"title-container\" style=\"position: absolute; margin-top: 0; margin-bottom: 0;display: flex; align-items: center; justify-content: center; top: 40.3mm; left: 11.0mm; width: 29.799999999999997mm; height: 4.0mm;\">\n<p class=\"title-content\" style=\"margin-top: 0; margin-bottom: 0;text-align: center; color: rgb(170,170,170);; font-size: 9pt;\">bye</p>\n</div>\n\n<div class=\"title-container\" style=\"position: absolute; margin-top: 0; margin-bottom: 0;display: flex; align-items: center; justify-content: center; top: 40.3mm; left: 41.8mm; width: 29.799999999999997mm; height: 4.0mm;\">\n<p class=\"title-content\" style=\"margin-top: 0; margin-bottom: 0;text-align: center; color: rgb(170,170,170);; font-size: 9pt;\">bye</p>\n</div>\n\n<div class=\"title-container\" style=\"position: absolute; margin-top: 0; margin-bottom: 0;display: flex; align-items: center; justify-content: center; top: 40.3mm; left: 72.6mm; width: 29.799999999999997mm; height: 4.0mm;\">\n<p class=\"title-content\" style=\"margin-top: 0; margin-bottom: 0;text-align: center; color: rgb(170,170,170);; font-size: 9pt;\">bye</p>\n</div>\n\n\n\n<div class=\"title-container\" style=\"position: absolute; margin-top: 0; margin-bottom: 0;display: flex; align-items: center; justify-content: center; top: 6.0mm; left: 0.0mm; width: 10.0mm; height: 14.899999999999999mm;background-color: rgb(82,110,186);\">\n<p class=\"title-content\" style=\"margin-top: 0; margin-bottom: 0;text-align: center; color: rgb(0,0,0);; font-size: 9pt;\">Row Titles</p>\n</div>\n\n<div class=\"title-container\" style=\"position: absolute; margin-top: 0; margin-bottom: 0;display: flex; align-items: center; justify-content: center; top: 25.4mm; left: 0.0mm; width: 10.0mm; height: 14.899999999999999mm;background-color: rgb(94,163,188);\">\n<p class=\"title-content\" style=\"margin-top: 0; margin-bottom: 0;text-align: center; color: rgb(0,0,0);; font-size: 9pt;\">are better</p>\n</div>\n\n\n\n\n\n</div>\n<div class=\"module\" style=\"position: absolute; top: 44.3mm; left: 0mm; width: 77.6mm; height: 44.3mm;\">\n<img class=\"element\" style=\"position: absolute; margin: 0; top: 6.0mm; left: 0.0mm;height: 38.3mm; width: 76.6mm;\" src=\"data:image/png;base64,iVBORw0KGgoAAAANSUhEUgAAAEAAAAAgCAIAAAAt/+nTAAAAc0lEQVRYCdXBAQEAAADBMCqK8JjSyWFziZ65RM9comcu0TOX6JlL9MwleuYSPXOJnrlEz1yiZy7RM5fomUv0zCV65hI9c4meuUTPXKJnLtEzl+iZS/TMJXrmEj1ziZ65RM9comcu0TOX6JlL9MwleuYSPRuT9i3hvkxsvgAAAABJRU5ErkJggg==\"/>\n<div class=\"element\" style=\"position: absolute; margin: 0; top: 20.362499999999997mm; left: 38.3mm; width: 17.247569mm; height: 11.263194mm; border: 1.0pt solid rgb(255,255,255);\"></div>\n<div class=\"element\" style=\"position: absolute; margin: 0; top: 7.196875mm; left: 1.196875mm; width: 17.247569mm; height: 11.263194mm; border: 1.0pt solid rgb(255,255,255);\"></div>\n\n\n<div class=\"title-container\" style=\"position: absolute; margin-top: 0; margin-bottom: 0;display: flex; align-items: center; justify-content: center; top: 0.0mm; left: 0.0mm; width: 76.6mm; height: 5.0mm;\">\n<p class=\"title-content\" style=\"margin-top: 0; margin-bottom: 0;text-align: center; color: rgb(0,0,0);; font-size: 12pt;\">My Title</p>\n</div>\n\n\n\n\n\n</div>\n<div class=\"module\" style=\"position: absolute; top: 44.3mm; left: 77.6mm; width: 102.39999999999999mm; height: 44.3mm;\">\n<img class=\"element\" style=\"position: absolute; margin: 0; top: 6.0mm; left: 11.0mm;height: 14.899999999999999mm; width: 29.799999999999997mm;\" src=\"data:image/png;base64,iVBORw0KGgoAAAANSUhEUgAAAEAAAAAgCAIAAAAt/+nTAAAAc0lEQVRYCdXBAQEAAADBMIoq9xrCyWFzqJ45VM8cqmcO1TOH6plD9cyheuZQPXOonjlUzxyqZw7VM4fqmUP1zKF65lA9c6ieOVTPHKpnDtUzh+qZQ/XMoXrmUD1zqJ45VM8cqmcO1TOH6plD9cyheuZQPRtFmzfBjrjh9wAAAABJRU5ErkJggg==\"/>\n<img class=\"element\" style=\"position: absolute; margin: 0; top: 6.0mm; left: 41.8mm;height: 14.899999999999999mm; width: 29.799999999999997mm;\" src=\"data:image/png;base64,iVBORw0KGgoAAAANSUhEUgAAAEAAAAAgCAIAAAAt/+nTAAAAc0lEQVRYCdXBAQEAAADBMIoq9xrCyWFzqJ45VM8cqmcO1TOH6plD9cyheuZQPXOonjlUzxyqZw7VM4fqmUP1zKF65lA9c6ieOVTPHKpnDtUzh+qZQ/XMoXrmUD1zqJ45VM8cqmcO1TOH6plD9cyheuZQPRtFmzfBjrjh9wAAAABJRU5ErkJggg==\"/>\n<img class=\"element\" style=\"position: absolute; margin: 0; top: 6.0mm; left: 72.6mm;height: 14.899999999999999mm; width: 29.799999999999997mm;\" src=\"data:image/png;base64,iVBORw0KGgoAAAANSUhEUgAAAEAAAAAgCAIAAAAt/+nTAAAAc0lEQVRYCdXBAQEAAADBMIoq9xrCyWFzqJ45VM8cqmcO1TOH6plD9cyheuZQPXOonjlUzxyqZw7VM4fqmUP1zKF65lA9c6ieOVTPHKpnDtUzh+qZQ/XMoXrmUD1zqJ45VM8cqmcO1TOH6plD9cyheuZQPRtFmzfBjrjh9wAAAABJRU5ErkJggg==\"/>\n<img class=\"element\" style=\"position: absolute; margin: 0; top: 25.4mm; left: 11.0mm;height: 14.899999999999999mm; width: 29.799999999999997mm;\" src=\"data:image/png;base64,iVBORw0KGgoAAAANSUhEUgAAAEAAAAAgCAIAAAAt/+nTAAAAc0lEQVRYCdXBAQEAAADBMFoq+k5iyGFziZ65RM9comcu0TOX6JlL9MwleuYSPXOJnrlEz1yiZy7RM5fomUv0zCV65hI9c4meuUTPXKJnLtEzl+iZS/TMJXrmEj1ziZ65RM9comcu0TOX6JlL9MwleuYSPRtt9D7BlhD8BQAAAABJRU5ErkJggg==\"/>\n<img class=\"element\" style=\"position: absolute; margin: 0; top: 25.4mm; left: 41.8mm;height: 14.899999999999999mm; width: 29.799999999999997mm;\" src=\"data:image/png;base64,iVBORw0KGgoAAAANSUhEUgAAAEAAAAAgCAIAAAAt/+nTAAAAc0lEQVRYCdXBAQEAAADBMFoq+k5iyGFziZ65RM9comcu0TOX6JlL9MwleuYSPXOJnrlEz1yiZy7RM5fomUv0zCV65hI9c4meuUTPXKJnLtEzl+iZS/TMJXrmEj1ziZ65RM9comcu0TOX6JlL9MwleuYSPRtt9D7BlhD8BQAAAABJRU5ErkJggg==\"/>\n<div class=\"title-container\" style=\"position: absolute; margin-top: 0; margin-bottom: 0;display: flex; align-items: center; justify-content: center; top: 26.4mm; left: 42.8mm; width: 8.0mm; height: 7.0mm;justify-content: flex-start; background-color: rgb(186,98,82);\">\n<p style=\"width: 1.0mm\"></p>\n<p class=\"title-content\" style=\"margin-top: 0; margin-bottom: 0;text-align: left; color: rgb(255,255,255);; font-size: 9pt;\">top<br/>left</p>\n</div>\n<div class=\"title-container\" style=\"position: absolute; margin-top: 0; margin-bottom: 0;display: flex; align-items: center; justify-content: center; top: 26.4mm; left: 62.599999999999994mm; width: 8.0mm; height: 7.0mm;justify-content: flex-end; background-color: rgb(255,255,255);\">\n<p class=\"title-content\" style=\"margin-top: 0; margin-bottom: 0;text-align: right; color: rgb(0,0,0);; font-size: 9pt;\">top<br/>right</p>\n<p style=\"width: 1.0mm\"></p>\n</div>\n<div class=\"title-container\" style=\"position: absolute; margin-top: 0; margin-bottom: 0;display: flex; align-items: center; justify-content: center; top: 35.3mm; left: 44.199999999999996mm; width: 25.0mm; height: 4.0mm;\">\n<p class=\"title-content\" style=\"margin-top: 0; margin-bottom: 0;text-align: center; color: rgb(0,0,0);; font-size: 9pt;\">bottom center</p>\n</div>\n<img class=\"element\" style=\"position: absolute; margin: 0; top: 25.4mm; left: 72.6mm;height: 14.899999999999999mm; width: 29.799999999999997mm;\" src=\"data:image/png;base64,iVBORw0KGgoAAAANSUhEUgAAAEAAAAAgCAIAAAAt/+nTAAAAc0lEQVRYCdXBAQEAAADBMFoq+k5iyGFziZ65RM9comcu0TOX6JlL9MwleuYSPXOJnrlEz1yiZy7RM5fomUv0zCV65hI9c4meuUTPXKJnLtEzl+iZS/TMJXrmEj1ziZ65RM9comcu0TOX6JlL9MwleuYSPRtt9D7BlhD8BQAAAABJRU5ErkJggg==\"/>\n<div class=\"title-container\" style=\"position: absolute; margin-top: 0; margin-bottom: 0;display: flex; align-items: center; justify-content: center; top: 20.9mm; left: 11.0mm; width: 29.799999999999997mm; height: 4.0mm;\">\n<p class=\"title-content\" style=\"margin-top: 0; margin-bottom: 0;text-align: center; color: rgb(170,170,170);; font-size: 9pt;\">hello</p>\n</div>\n\n<div class=\"title-container\" style=\"position: absolute; margin-top: 0; margin-bottom: 0;display: flex; align-items: center; justify-content: center; top: 20.9mm; left: 41.8mm; width: 29.799999999999997mm; height: 4.0mm;\">\n<p class=\"title-content\" style=\"margin-top: 0; margin-bottom: 0;text-align: center; color: rgb(170,170,170);; font-size: 9pt;\">hello</p>\n</div>\n\n<div class=\"title-container\" style=\"position: absolute; margin-top: 0; margin-bottom: 0;display: flex; align-items: center; justify-content: center; top: 20.9mm; left: 72.6mm; width: 29.799999999999997mm; height: 4.0mm;\">\n<p class=\"title-content\" style=\"margin-top: 0; margin-bottom: 0;text-align: center; color: rgb(170,170,170);; font-size: 9pt;\">hello</p>\n</div>\n\n<div class=\"title-container\" style=\"position: absolute; margin-top: 0; margin-bottom: 0;display: flex; align-items: center; justify-content: center; top: 40.3mm; left: 11.0mm; width: 29.799999999999997mm; height: 4.0mm;\">\n<p class=\"title-content\" style=\"margin-top: 0; margin-bottom: 0;text-align: center; color: rgb(170,170,170);; font-size: 9pt;\">bye</p>\n</div>\n\n<div class=\"title-container\" style=\"position: absolute; margin-top: 0; margin-bottom: 0;display: flex; align-items: center; justify-content: center; top: 40.3mm; left: 41.8mm; width: 29.799999999999997mm; height: 4.0mm;\">\n<p class=\"title-content\" style=\"margin-top: 0; margin-bottom: 0;text-align: center; color: rgb(170,170,170);; font-size: 9pt;\">bye</p>\n</div>\n\n<div class=\"title-container\" style=\"position: absolute; margin-top: 0; margin-bottom: 0;display: flex; align-items: center; justify-content: center; top: 40.3mm; left: 72.6mm; width: 29.799999999999997mm; height: 4.0mm;\">\n<p class=\"title-content\" style=\"margin-top: 0; margin-bottom: 0;text-align: center; color: rgb(170,170,170);; font-size: 9pt;\">bye</p>\n</div>\n\n\n\n<div class=\"title-container\" style=\"position: absolute; margin-top: 0; margin-bottom: 0;display: flex; align-items: center; justify-content: center; top: 6.0mm; left: 0.0mm; width: 10.0mm; height: 14.899999999999999mm;background-color: rgb(82,110,186);\">\n<p class=\"title-content\" style=\"margin-top: 0; margin-bottom: 0;text-align: center; color: rgb(0,0,0);; font-size: 9pt;\">Row Titles</p>\n</div>\n\n<div class=\"title-container\" style=\"position: absolute; margin-top: 0; margin-bottom: 0;display: flex; align-items: center; justify-content: center; top: 25.4mm; left: 0.0mm; width: 10.0mm; height: 14.899999999999999mm;background-color: rgb(94,163,188);\">\n<p class=\"title-content\" style=\"margin-top: 0; margin-bottom: 0;text-align: center; color: rgb(0,0,0);; font-size: 9pt;\">are better</p>\n</div>\n\n\n\n\n\n</div>\n\n</div>"
     },
     "metadata": {}
    }
   ],
   "source": [
    "v_stacked = [\n",
    "    [ref_grid, c_grid],\n",
    "    [ref_grid, c_grid]\n",
    "]\n",
    "\n",
    "# create figure \n",
    "figuregen.figure(v_stacked, width_cm=18., filename='figure.html')\n",
    "displayhtml(\"figure.html\")"
   ]
  },
  {
   "source": [
    "Here is another example how to use vertical stacked figures with new grids and a completely different layout."
   ],
   "cell_type": "markdown",
   "metadata": {}
  },
  {
   "cell_type": "code",
   "execution_count": 15,
   "metadata": {},
   "outputs": [
    {
     "output_type": "display_data",
     "data": {
      "text/plain": "<IPython.core.display.HTML object>",
      "text/html": "<script src=\"./scripts/Chart.min.js\"></script>\n<div style='position: relative; background-color: white; width: 180.0mm; height: 44.875mm; ' > \n<div class=\"module\" style=\"position: absolute; top: 0mm; left: 0mm; width: 180.0mm; height: 30.166666666666668mm;\">\n<img class=\"element\" style=\"position: absolute; margin: 0; top: 0.0mm; left: 0.0mm;height: 29.666666666666668mm; width: 59.333333333333336mm;\" src=\"data:image/png;base64,iVBORw0KGgoAAAANSUhEUgAAAEAAAAAgCAIAAAAt/+nTAAAAc0lEQVRYCdXBAQEAAADBMIoq9xrCyWFzqJ45VM8cqmcO1TOH6plD9cyheuZQPXOonjlUzxyqZw7VM4fqmUP1zKF65lA9c6ieOVTPHKpnDtUzh+qZQ/XMoXrmUD1zqJ45VM8cqmcO1TOH6plD9cyheuZQPRtFmzfBjrjh9wAAAABJRU5ErkJggg==\"/>\n<img class=\"element\" style=\"position: absolute; margin: 0; top: 0.0mm; left: 60.333333333333336mm;height: 29.666666666666668mm; width: 59.333333333333336mm;\" src=\"data:image/png;base64,iVBORw0KGgoAAAANSUhEUgAAAEAAAAAgCAIAAAAt/+nTAAAAc0lEQVRYCdXBAQEAAADBMFoq+k5iyGFziZ65RM9comcu0TOX6JlL9MwleuYSPXOJnrlEz1yiZy7RM5fomUv0zCV65hI9c4meuUTPXKJnLtEzl+iZS/TMJXrmEj1ziZ65RM9comcu0TOX6JlL9MwleuYSPRtt9D7BlhD8BQAAAABJRU5ErkJggg==\"/>\n<img class=\"element\" style=\"position: absolute; margin: 0; top: 0.0mm; left: 120.66666666666667mm;height: 29.666666666666668mm; width: 59.333333333333336mm;\" src=\"data:image/png;base64,iVBORw0KGgoAAAANSUhEUgAAAEAAAAAgCAIAAAAt/+nTAAAAc0lEQVRYCdXBAQEAAADBMCqK8JjSyWFziZ65RM9comcu0TOX6JlL9MwleuYSPXOJnrlEz1yiZy7RM5fomUv0zCV65hI9c4meuUTPXKJnLtEzl+iZS/TMJXrmEj1ziZ65RM9comcu0TOX6JlL9MwleuYSPRuT9i3hvkxsvgAAAABJRU5ErkJggg==\"/>\n\n\n\n\n\n\n\n\n\n</div>\n<div class=\"module\" style=\"position: absolute; top: 30.166666666666668mm; left: 0mm; width: 60.333333333333336mm; height: 14.708333333333334mm;\">\n<img class=\"element\" style=\"position: absolute; margin: 0; top: 0.0mm; left: 0.0mm;height: 14.708333333333334mm; width: 29.416666666666668mm;\" src=\"data:image/png;base64,iVBORw0KGgoAAAANSUhEUgAAAEAAAAAgCAIAAAAt/+nTAAAAc0lEQVRYCdXBAQEAAADBMIoq9xrCyWFzqJ45VM8cqmcO1TOH6plD9cyheuZQPXOonjlUzxyqZw7VM4fqmUP1zKF65lA9c6ieOVTPHKpnDtUzh+qZQ/XMoXrmUD1zqJ45VM8cqmcO1TOH6plD9cyheuZQPRtFmzfBjrjh9wAAAABJRU5ErkJggg==\"/>\n<div class=\"element\" style=\"position: absolute; margin: 0; top: 0.0mm; left: 0.0mm; width: 28.99333306666667mm; height: 14.284999733333335mm; border: 0.6pt solid rgb(0,0,0);\"></div>\n<img class=\"element\" style=\"position: absolute; margin: 0; top: 0.0mm; left: 29.916666666666668mm;height: 14.708333333333334mm; width: 29.416666666666668mm;\" src=\"data:image/png;base64,iVBORw0KGgoAAAANSUhEUgAAAEAAAAAgCAIAAAAt/+nTAAAAc0lEQVRYCdXBAQEAAADBMIoq9xrCyWFzqJ45VM8cqmcO1TOH6plD9cyheuZQPXOonjlUzxyqZw7VM4fqmUP1zKF65lA9c6ieOVTPHKpnDtUzh+qZQ/XMoXrmUD1zqJ45VM8cqmcO1TOH6plD9cyheuZQPRtFmzfBjrjh9wAAAABJRU5ErkJggg==\"/>\n<div class=\"element\" style=\"position: absolute; margin: 0; top: 0.0mm; left: 29.916666666666668mm; width: 28.99333306666667mm; height: 14.284999733333335mm; border: 0.6pt solid rgb(0,0,0);\"></div>\n\n\n\n\n\n\n\n\n</div>\n<div class=\"module\" style=\"position: absolute; top: 30.166666666666668mm; left: 60.333333333333336mm; width: 60.333333333333336mm; height: 14.708333333333334mm;\">\n<img class=\"element\" style=\"position: absolute; margin: 0; top: 0.0mm; left: 0.0mm;height: 14.708333333333334mm; width: 29.416666666666668mm;\" src=\"data:image/png;base64,iVBORw0KGgoAAAANSUhEUgAAAEAAAAAgCAIAAAAt/+nTAAAAc0lEQVRYCdXBAQEAAADBMFoq+k5iyGFziZ65RM9comcu0TOX6JlL9MwleuYSPXOJnrlEz1yiZy7RM5fomUv0zCV65hI9c4meuUTPXKJnLtEzl+iZS/TMJXrmEj1ziZ65RM9comcu0TOX6JlL9MwleuYSPRtt9D7BlhD8BQAAAABJRU5ErkJggg==\"/>\n<div class=\"element\" style=\"position: absolute; margin: 0; top: 0.0mm; left: 0.0mm; width: 28.99333306666667mm; height: 14.284999733333335mm; border: 0.6pt solid rgb(0,0,0);\"></div>\n<img class=\"element\" style=\"position: absolute; margin: 0; top: 0.0mm; left: 29.916666666666668mm;height: 14.708333333333334mm; width: 29.416666666666668mm;\" src=\"data:image/png;base64,iVBORw0KGgoAAAANSUhEUgAAAEAAAAAgCAIAAAAt/+nTAAAAc0lEQVRYCdXBAQEAAADBMFoq+k5iyGFziZ65RM9comcu0TOX6JlL9MwleuYSPXOJnrlEz1yiZy7RM5fomUv0zCV65hI9c4meuUTPXKJnLtEzl+iZS/TMJXrmEj1ziZ65RM9comcu0TOX6JlL9MwleuYSPRtt9D7BlhD8BQAAAABJRU5ErkJggg==\"/>\n<div class=\"element\" style=\"position: absolute; margin: 0; top: 0.0mm; left: 29.916666666666668mm; width: 28.99333306666667mm; height: 14.284999733333335mm; border: 0.6pt solid rgb(0,0,0);\"></div>\n\n\n\n\n\n\n\n\n</div>\n<div class=\"module\" style=\"position: absolute; top: 30.166666666666668mm; left: 120.66666666666667mm; width: 59.333333333333336mm; height: 14.708333333333334mm;\">\n<img class=\"element\" style=\"position: absolute; margin: 0; top: 0.0mm; left: 0.0mm;height: 14.708333333333334mm; width: 29.416666666666668mm;\" src=\"data:image/png;base64,iVBORw0KGgoAAAANSUhEUgAAAEAAAAAgCAIAAAAt/+nTAAAAc0lEQVRYCdXBAQEAAADBMCqK8JjSyWFziZ65RM9comcu0TOX6JlL9MwleuYSPXOJnrlEz1yiZy7RM5fomUv0zCV65hI9c4meuUTPXKJnLtEzl+iZS/TMJXrmEj1ziZ65RM9comcu0TOX6JlL9MwleuYSPRuT9i3hvkxsvgAAAABJRU5ErkJggg==\"/>\n<div class=\"element\" style=\"position: absolute; margin: 0; top: 0.0mm; left: 0.0mm; width: 28.99333306666667mm; height: 14.284999733333335mm; border: 0.6pt solid rgb(0,0,0);\"></div>\n<img class=\"element\" style=\"position: absolute; margin: 0; top: 0.0mm; left: 29.916666666666668mm;height: 14.708333333333334mm; width: 29.416666666666668mm;\" src=\"data:image/png;base64,iVBORw0KGgoAAAANSUhEUgAAAEAAAAAgCAIAAAAt/+nTAAAAc0lEQVRYCdXBAQEAAADBMCqK8JjSyWFziZ65RM9comcu0TOX6JlL9MwleuYSPXOJnrlEz1yiZy7RM5fomUv0zCV65hI9c4meuUTPXKJnLtEzl+iZS/TMJXrmEj1ziZ65RM9comcu0TOX6JlL9MwleuYSPRuT9i3hvkxsvgAAAABJRU5ErkJggg==\"/>\n<div class=\"element\" style=\"position: absolute; margin: 0; top: 0.0mm; left: 29.916666666666668mm; width: 28.99333306666667mm; height: 14.284999733333335mm; border: 0.6pt solid rgb(0,0,0);\"></div>\n\n\n\n\n\n\n\n\n</div>\n\n</div>"
     },
     "metadata": {}
    }
   ],
   "source": [
    "n_rows = 1\n",
    "# ---------- Horizontal Figure TOP ----------\n",
    "top_cols = 3\n",
    "top_grid = figuregen.Grid(num_rows=n_rows, num_cols=top_cols)\n",
    "\n",
    "# fill grid with image data\n",
    "for row in range(n_rows):\n",
    "    for col in range(top_cols):\n",
    "        top_grid.get_element(row,col).set_image(images[col])\n",
    "\n",
    "# LAYOUT: Specify paddings (unit: mm)\n",
    "top_lay = top_grid.get_layout()\n",
    "top_lay.set_padding(column=1.0, bottom=0.5)\n",
    "\n",
    "# ---------- Horizontal Figure BOTTOM ----------\n",
    "bottom_cols = 2\n",
    "\n",
    "bottom_grid1 = figuregen.Grid(num_rows=n_rows, num_cols=bottom_cols)\n",
    "bottom_grid2 = figuregen.Grid(num_rows=n_rows, num_cols=bottom_cols)\n",
    "bottom_grid3 = figuregen.Grid(num_rows=n_rows, num_cols=bottom_cols)\n",
    "\n",
    "bottom_grids = [bottom_grid1, bottom_grid2, bottom_grid3]\n",
    "\n",
    "# FILL: with images\n",
    "idx = 0\n",
    "for sub_fig in bottom_grids:\n",
    "    for col in range(bottom_cols):\n",
    "        e = sub_fig.get_element(0,col).set_image(images[idx])\n",
    "        e.set_frame(linewidth=0.6, color=[0,0,0])\n",
    "    idx +=1\n",
    "\n",
    "# LAYOUT: Specify paddings (unit: mm)\n",
    "for sub_fig in bottom_grids:\n",
    "    sub_fig.get_layout().set_padding(column=0.5, right=1.0)\n",
    "\n",
    "bottom_grids[-1].get_layout().set_padding(right=0.0) # remove last padding\n",
    "\n",
    "# ---------- V-STACK of Horizontal Figures ----------\n",
    "grids = [\n",
    "        [top_grid], \n",
    "        bottom_grids\n",
    "        ]\n",
    "\n",
    "# create figure\n",
    "figuregen.figure(grids, width_cm=18., filename='figure.html')\n",
    "displayhtml(\"figure.html\")"
   ]
  }
 ],
 "metadata": {
  "kernelspec": {
   "display_name": "Python 3",
   "language": "python",
   "name": "python3"
  },
  "language_info": {
   "codemirror_mode": {
    "name": "ipython",
    "version": 3
   },
   "file_extension": ".py",
   "mimetype": "text/x-python",
   "name": "python",
   "nbconvert_exporter": "python",
   "pygments_lexer": "ipython3",
   "version": "3.8.3-final"
  }
 },
 "nbformat": 4,
 "nbformat_minor": 4
}