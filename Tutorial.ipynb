{
 "cells": [
  {
   "cell_type": "code",
   "execution_count": 1,
   "metadata": {},
   "outputs": [],
   "source": [
    "import generator"
   ]
  },
  {
   "cell_type": "code",
   "execution_count": 2,
   "metadata": {},
   "outputs": [],
   "source": [
    "from generator import util"
   ]
  },
  {
   "cell_type": "code",
   "execution_count": 3,
   "metadata": {},
   "outputs": [],
   "source": [
    "import numpy as np"
   ]
  },
  {
   "cell_type": "code",
   "execution_count": 4,
   "metadata": {},
   "outputs": [],
   "source": [
    "# define some colors (r,g,b)\n",
    "yellow=[232, 181, 88]\n",
    "l_blue=[94, 163, 188]\n",
    "blue=[82, 110, 186]\n",
    "orange=[186, 98, 82]"
   ]
  },
  {
   "cell_type": "code",
   "execution_count": 5,
   "metadata": {},
   "outputs": [],
   "source": [
    "# generate test images\n",
    "img_blue = np.tile([x / 255 for x in l_blue], (32, 64, 1))\n",
    "img_yellow = np.tile([x / 255 for x in yellow], (32, 64, 1))\n",
    "\n",
    "# load the two images\n",
    "images = [\n",
    "    generator.util.image.lin_to_srgb(img_blue),\n",
    "    generator.util.image.lin_to_srgb(img_yellow)\n",
    "]"
   ]
  },
  {
   "cell_type": "code",
   "execution_count": 6,
   "metadata": {},
   "outputs": [],
   "source": [
    "# ------ create 'empty' Grid with num_rows, num_cols ---------\n",
    "grid = generator.Grid(2, 3)\n",
    "layout = grid.get_layout()\n",
    "layout.set_padding(top=0.5, bottom=1.5)\n",
    "\n",
    "# fill grid with image data\n",
    "e1 = grid.get_element(0,0).set_image(images[0])\n",
    "e2 = grid.get_element(0,1).set_image(images[1])\n",
    "e3 = grid.get_element(0,2).set_image(images[0])\n",
    "e4 = grid.get_element(1,0).set_image(images[1])\n",
    "e5 = grid.get_element(1,1).set_image(images[0])\n",
    "e6 = grid.get_element(1,2).set_image(images[1])"
   ]
  },
  {
   "cell_type": "code",
   "execution_count": 7,
   "metadata": {
    "scrolled": true
   },
   "outputs": [
    {
     "data": {
      "text/plain": [
       "<generator.generator.ElementView at 0x2647e4b76d0>"
      ]
     },
     "execution_count": 7,
     "metadata": {},
     "output_type": "execute_result"
    }
   ],
   "source": [
    "# marker (default marker props)\n",
    "e1.set_marker(pos=[32,12], size=[15,10], color=blue)\n",
    "e1.set_marker(pos=[1,1], size=[15,10], color=orange)"
   ]
  },
  {
   "cell_type": "code",
   "execution_count": 8,
   "metadata": {},
   "outputs": [
    {
     "data": {
      "text/plain": [
       "<generator.generator.ElementView at 0x2647e4b7640>"
      ]
     },
     "execution_count": 8,
     "metadata": {},
     "output_type": "execute_result"
    }
   ],
   "source": [
    "# frame\n",
    "e2.set_frame(linewidth=2., color=blue)"
   ]
  },
  {
   "cell_type": "code",
   "execution_count": 9,
   "metadata": {},
   "outputs": [
    {
     "data": {
      "text/plain": [
       "<generator.generator.LayoutView at 0x2647e4b75b0>"
      ]
     },
     "execution_count": 9,
     "metadata": {},
     "output_type": "execute_result"
    }
   ],
   "source": [
    "# subtitles/captions for each element\n",
    "e1.set_caption('hallo!')\n",
    "e2.set_caption('und')\n",
    "e3.set_caption('tschau!tschau!')\n",
    "e4.set_caption('hallo!')\n",
    "e5.set_caption('und')\n",
    "e6.set_caption('tschau!tschau!')\n",
    "layout.set_caption(height_mm=4.0, fontsize=9, txt_color=[170,170,170])"
   ]
  },
  {
   "cell_type": "code",
   "execution_count": 10,
   "metadata": {},
   "outputs": [],
   "source": [
    "# labels (examples, each element can have in total 6 labels on each valid position)\n",
    "e4.set_label(\"bottom center\", pos='bottom_center', width_mm=25., height_mm=4.0, offset_mm=[1.0, 1.0], \n",
    "                  fontsize=9, bg_color=None)\n",
    "e4.set_label(\"top\\\\\\\\right\", pos='top_right', width_mm=8., height_mm=7.0, offset_mm=[1.0, 1.0], \n",
    "                  fontsize=9, bg_color=[255,255,255])\n",
    "e4.set_label(\"top\\\\\\\\left\", pos='top_left', width_mm=8., height_mm=7.0, offset_mm=[1.0, 1.0], \n",
    "                  fontsize=9, bg_color=orange, txt_color=[255,255,255])"
   ]
  },
  {
   "cell_type": "code",
   "execution_count": 11,
   "metadata": {},
   "outputs": [
    {
     "data": {
      "text/plain": [
       "<generator.generator.LayoutView at 0x2647e4b75b0>"
      ]
     },
     "execution_count": 11,
     "metadata": {},
     "output_type": "execute_result"
    }
   ],
   "source": [
    "# module titles\n",
    "grid.set_title('top', 'Top Title')\n",
    "layout.set_title('top', 5., offset_mm=2.,fontsize=12, bg_color=orange, txt_color=[255,255,255])\n",
    "\n",
    "grid.set_title('left', 'Left Title')\n",
    "layout.set_title('left', 4., offset_mm=2.,fontsize=12)"
   ]
  },
  {
   "cell_type": "code",
   "execution_count": 12,
   "metadata": {},
   "outputs": [
    {
     "data": {
      "text/plain": [
       "<generator.generator.Grid at 0x2647e4b7610>"
      ]
     },
     "execution_count": 12,
     "metadata": {},
     "output_type": "execute_result"
    }
   ],
   "source": [
    "# Row and column titles\n",
    "grid.set_row_titles('left', ['Row Titles', 'are better'])\n",
    "layout.set_row_titles('left', 10., offset_mm=1., fontsize=9, txt_rotation=0, bg_color=[blue, l_blue])\n",
    "\n",
    "grid.set_col_titles('north', ['Col Titles', 'are', 'The Best'])"
   ]
  },
  {
   "cell_type": "code",
   "execution_count": 13,
   "metadata": {},
   "outputs": [
    {
     "name": "stdout",
     "output_type": "stream",
     "text": [
      "total width of generated tikz module:  280.0\n",
      "total height of generated tikz module:  107.93333333333332\n",
      "Tikz/LaTeX file was generated.\n"
     ]
    }
   ],
   "source": [
    "generator.horizontal_figure([grid], width_cm=28., filename='singlemodule_test.pdf')\n",
    "#generator.horizontal_figure([grid], width_cm=28., filename='singlemodule_test.pptx')\n",
    "generator.horizontal_figure([grid], width_cm=28., filename='singlemodule_test.html')"
   ]
  },
  {
   "cell_type": "code",
   "execution_count": 14,
   "metadata": {},
   "outputs": [],
   "source": [
    "class PDF(object):\n",
    "  def __init__(self, pdf, size=(200,200)):\n",
    "    self.pdf = pdf\n",
    "    self.size = size\n",
    "\n",
    "  def _repr_html_(self):\n",
    "    return '<iframe src={0} width={1[0]} height={1[1]}></iframe>'.format(self.pdf, self.size)\n",
    "\n",
    "  def _repr_latex_(self):\n",
    "    return r'\\includegraphics[width=1.0\\textwidth]{{{0}}}'.format(self.pdf)"
   ]
  },
  {
   "cell_type": "code",
   "execution_count": 24,
   "metadata": {},
   "outputs": [
    {
     "data": {
      "text/html": [
       "<iframe src=singlemodule_test.pdf width=1000 height=500></iframe>"
      ],
      "text/latex": [
       "\\includegraphics[width=1.0\\textwidth]{singlemodule_test.pdf}"
      ],
      "text/plain": [
       "<__main__.PDF at 0x2647e49d160>"
      ]
     },
     "execution_count": 24,
     "metadata": {},
     "output_type": "execute_result"
    }
   ],
   "source": [
    "PDF(\"singlemodule_test.pdf\", (1000,500))"
   ]
  }
 ],
 "metadata": {
  "kernelspec": {
   "display_name": "Python 3",
   "language": "python",
   "name": "python3"
  },
  "language_info": {
   "codemirror_mode": {
    "name": "ipython",
    "version": 3
   },
   "file_extension": ".py",
   "mimetype": "text/x-python",
   "name": "python",
   "nbconvert_exporter": "python",
   "pygments_lexer": "ipython3",
   "version": "3.8.3"
  }
 },
 "nbformat": 4,
 "nbformat_minor": 4
}
