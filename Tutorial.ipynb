{
 "cells": [
  {
   "cell_type": "markdown",
   "metadata": {},
   "source": [
    "Below you see the generated output of \"tests/pool.py\". In general, the provided test files cover all module properties currently available. \n",
    "\n",
    "![](multi-module.png)\n",
    "\n",
    "This is a tutorial of our figure generator. We will go in more detail about how to create a figure based on a single grid module. \n",
    "A grid contains images in a grid-like arrangment (see image below). This module provides many options where to place additional content to the images: some can be placed on top of images or around them.\n",
    "\n",
    "![](grid-layout.PNG)\n",
    "\n",
    "A figure can have multiple modules (see pool scene above), which will be aligned automatically based on the total width. \n",
    "\n",
    "The following PDF class is only needed to show the figure result in jupyter."
   ]
  },
  {
   "cell_type": "code",
   "execution_count": 1,
   "metadata": {},
   "outputs": [],
   "source": [
    "class PDF(object):\n",
    "  def __init__(self, pdf, size=(200,200)):\n",
    "    self.pdf = pdf\n",
    "    self.size = size\n",
    "\n",
    "  def _repr_html_(self):\n",
    "    return '<iframe src={0} width={1[0]} height={1[1]}></iframe>'.format(self.pdf, self.size)\n",
    "\n",
    "  def _repr_latex_(self):\n",
    "    return r'\\includegraphics[width=1.0\\textwidth]{{{0}}}'.format(self.pdf)"
   ]
  },
  {
   "cell_type": "markdown",
   "metadata": {},
   "source": [
    "First we need to import the figure generator, so that we can create such figures.\n",
    "The other two imports contain useful functions to work with image data. \n",
    "\"util\" focusses on image processing (luminance, crop, etc.) and image comparisons, supporting common error metrics in rendering. "
   ]
  },
  {
   "cell_type": "code",
   "execution_count": 2,
   "metadata": {},
   "outputs": [],
   "source": [
    "import generator\n",
    "from generator import util\n",
    "import numpy as np"
   ]
  },
  {
   "cell_type": "markdown",
   "metadata": {},
   "source": [
    "To create a figure containing a grid-module, we first need some image data. We define some colors to generate test images. Typically, the user has his own image data, that he can load and process. \n",
    "We also define some colors for later use (frames, background colors, ...).\n",
    "A color is a list of three values representing the (r,g,b) channels, while each value is of type integer ranging from 0 to 255."
   ]
  },
  {
   "cell_type": "code",
   "execution_count": 3,
   "metadata": {},
   "outputs": [],
   "source": [
    "# define some colors (r,g,b)\n",
    "yellow=[232, 181, 88]\n",
    "l_blue=[94, 163, 188]\n",
    "blue=[82, 110, 186]\n",
    "orange=[186, 98, 82]\n",
    "\n",
    "# generate test images\n",
    "img_blue = np.tile([x / 255 for x in l_blue], (32, 64, 1))\n",
    "img_yellow = np.tile([x / 255 for x in yellow], (32, 64, 1))\n",
    "\n",
    "# load the two images\n",
    "images = [\n",
    "    generator.util.image.lin_to_srgb(img_blue),\n",
    "    generator.util.image.lin_to_srgb(img_yellow)\n",
    "]"
   ]
  },
  {
   "cell_type": "markdown",
   "metadata": {},
   "source": [
    "In the following we create an empty grid with two rows and three columns.\n",
    "A grid is only valid, if each element of the grid has an image."
   ]
  },
  {
   "cell_type": "code",
   "execution_count": 4,
   "metadata": {},
   "outputs": [],
   "source": [
    "# create 'empty' Grid with num_rows, num_cols\n",
    "grid = generator.Grid(num_rows=2, num_cols=3)\n",
    "\n",
    "# fill grid with image data\n",
    "e1 = grid.get_element(0,0).set_image(images[0])\n",
    "e2 = grid.get_element(0,1).set_image(images[1])\n",
    "e3 = grid.get_element(0,2).set_image(images[0])\n",
    "e4 = grid.get_element(1,0).set_image(images[1])\n",
    "e5 = grid.get_element(1,1).set_image(images[0])\n",
    "e6 = grid.get_element(1,2).set_image(images[1])"
   ]
  },
  {
   "cell_type": "markdown",
   "metadata": {},
   "source": [
    "This can already be a used to create a figure.\n",
    "To generate the figure the user provides the list of modules - in this case one grid, the figure width and a filename. The filename ending defines which backend will be used. The figure generator offers three backends: LaTeX (.pdf), HTML (.html) and PPTX (.pptx). HTML is the fastest to generate, while LaTeX takes the longest (few seconds).\n",
    "\n",
    "Note: We differentiate between text-fields (titles, labels, captions), image-elements and others (markers, frames). If we say elements or images we refer to image-elements. "
   ]
  },
  {
   "cell_type": "code",
   "execution_count": 5,
   "metadata": {},
   "outputs": [
    {
     "name": "stdout",
     "output_type": "stream",
     "text": [
      "total width of generated tikz module:  180.0\n",
      "total height of generated tikz module:  60.266666666666666\n",
      "Tikz/LaTeX file was generated.\n"
     ]
    },
    {
     "data": {
      "text/html": [
       "<iframe src=singlemodule_test.pdf width=800 height=400></iframe>"
      ],
      "text/latex": [
       "\\includegraphics[width=1.0\\textwidth]{singlemodule_test.pdf}"
      ],
      "text/plain": [
       "<__main__.PDF at 0x1d4d3226250>"
      ]
     },
     "execution_count": 5,
     "metadata": {},
     "output_type": "execute_result"
    }
   ],
   "source": [
    "# generate figure with LaTeX\n",
    "generator.horizontal_figure([grid], width_cm=18., filename='singlemodule_test.pdf')\n",
    "\n",
    "# show result\n",
    "PDF(\"singlemodule_test.pdf\", (800,400))"
   ]
  },
  {
   "cell_type": "markdown",
   "metadata": {},
   "source": [
    "Each grid has it's own layout. The user can set the layout and content in any order.\n",
    "\n",
    "Layout: \n",
    "To make sure, that the user does not need to set every little layout-property there exist, we provide a default layout ('figuregenerator/generator/default_layouts.py'). Every value not set, will get the default value within that file. \n",
    "\n",
    "Units:\n",
    "Most units are in mm (millimeter, type:float). Some are in points (concerning linewidths and fontsizes) or pixels (concerning images).\n",
    "\n",
    "Here we apply paddings at the top (0.5 mm) and bottom of the module (1.5 mm). You can also define column and row paddings (e.g. column=1.2). If you want to have paddings between modules, you can define within a module a right or left padding."
   ]
  },
  {
   "cell_type": "code",
   "execution_count": 6,
   "metadata": {},
   "outputs": [
    {
     "data": {
      "text/plain": [
       "<generator.generator.LayoutView at 0x1d4ff9bf430>"
      ]
     },
     "execution_count": 6,
     "metadata": {},
     "output_type": "execute_result"
    }
   ],
   "source": [
    "layout = grid.get_layout()\n",
    "layout.set_padding(top=0.5, bottom=1.5)"
   ]
  },
  {
   "cell_type": "markdown",
   "metadata": {},
   "source": [
    "We can set markers (rectangles) on top of an image. In rendering, this is the most common practice to mark crops in a scene (compare pool scene above). Marker properties (linewidth, bool_dashed) can be varied for each image, but not within an image."
   ]
  },
  {
   "cell_type": "code",
   "execution_count": 7,
   "metadata": {
    "scrolled": true
   },
   "outputs": [
    {
     "data": {
      "text/plain": [
       "<generator.generator.ElementView at 0x1d4ff9e6280>"
      ]
     },
     "execution_count": 7,
     "metadata": {},
     "output_type": "execute_result"
    }
   ],
   "source": [
    "# marker (default marker props)\n",
    "e1.set_marker(pos=[32,12], size=[15,10], color=blue)\n",
    "e1.set_marker(pos=[1,1], size=[15,10], color=orange)"
   ]
  },
  {
   "cell_type": "markdown",
   "metadata": {},
   "source": [
    "Frames can be set for each element individually. Intended behaviour: They are placed on top of an image - not around, so that they don't overlap with other content."
   ]
  },
  {
   "cell_type": "code",
   "execution_count": 8,
   "metadata": {},
   "outputs": [
    {
     "data": {
      "text/plain": [
       "<generator.generator.ElementView at 0x1d4ff9e6310>"
      ]
     },
     "execution_count": 8,
     "metadata": {},
     "output_type": "execute_result"
    }
   ],
   "source": [
    "# frame\n",
    "e2.set_frame(linewidth=2., color=blue)"
   ]
  },
  {
   "cell_type": "code",
   "execution_count": 9,
   "metadata": {},
   "outputs": [
    {
     "name": "stdout",
     "output_type": "stream",
     "text": [
      "total width of generated tikz module:  180.0\n",
      "total height of generated tikz module:  62.266666666666666\n",
      "Tikz/LaTeX file was generated.\n"
     ]
    },
    {
     "data": {
      "text/html": [
       "<iframe src=singlemodule_test.pdf width=800 height=400></iframe>"
      ],
      "text/latex": [
       "\\includegraphics[width=1.0\\textwidth]{singlemodule_test.pdf}"
      ],
      "text/plain": [
       "<__main__.PDF at 0x1d4ff9bfcd0>"
      ]
     },
     "execution_count": 9,
     "metadata": {},
     "output_type": "execute_result"
    }
   ],
   "source": [
    "# generate figure with LaTeX\n",
    "generator.horizontal_figure([grid], width_cm=18., filename='singlemodule_test.pdf')\n",
    "\n",
    "# show result\n",
    "PDF(\"singlemodule_test.pdf\", (800,400))"
   ]
  },
  {
   "cell_type": "markdown",
   "metadata": {},
   "source": [
    "Each element can have it's own caption (below image). For alignment reason, if one image of a grid has a caption, all images of that grid have a caption-placeholder (empty string, until overwritten).\n",
    "\n",
    "New Lines: are applied like in LaTeX. Because of python behaviour we need to 4 backslashes (\"example\\\\\\\\\\\\\\\\2nd line\") instead of two. To avoid this, you can use python raw-strings (r\"example\\\\\\\\2nd line\").\n",
    "\n",
    "Caption properties are set in the layout for all captions - can be set before or after adding captions. \n"
   ]
  },
  {
   "cell_type": "code",
   "execution_count": 10,
   "metadata": {},
   "outputs": [
    {
     "data": {
      "text/plain": [
       "<generator.generator.LayoutView at 0x1d4ff9bf430>"
      ]
     },
     "execution_count": 10,
     "metadata": {},
     "output_type": "execute_result"
    }
   ],
   "source": [
    "# subtitles/captions for each element\n",
    "e1.set_caption('hallo!')\n",
    "e2.set_caption('und')\n",
    "e3.set_caption('tschau!tschau!')\n",
    "e4.set_caption('hallo!')\n",
    "e5.set_caption('und')\n",
    "e6.set_caption('tschau!tschau!')\n",
    "layout.set_caption(height_mm=4.0, fontsize=9, txt_color=[170,170,170])"
   ]
  },
  {
   "cell_type": "markdown",
   "metadata": {},
   "source": [
    "Labels are placed on top of images. Each image has 6 label positions (each independent): \"top_left\", \"top_center\", \"top_right\", \"bottom_left\", etc. \n",
    "Because labels don't share common properties, we didn't seperate content from layout.\n",
    "\n",
    "Label _offset_mm_ (special): If position is \"x_left\" or \"x_right\", the argument needs a tupel of (left, right) offsets. If position is \"x_center\", it needs only one argument - if a tupel is given, it will only consider the first value for the offset.\n",
    "\n",
    "The text alignment is based on the position. For example, \"x_left\" aligns the text left."
   ]
  },
  {
   "cell_type": "code",
   "execution_count": 11,
   "metadata": {},
   "outputs": [],
   "source": [
    "# labels (examples, each element can have in total 6 labels on each valid position)\n",
    "e4.set_label(\"bottom center\", pos='bottom_center', width_mm=25., height_mm=4.0, offset_mm=[1.0, 1.0], \n",
    "                  fontsize=9, bg_color=None)\n",
    "e4.set_label(\"top\\\\\\\\right\", pos='top_right', width_mm=8., height_mm=7.0, offset_mm=[1.0, 1.0], \n",
    "                  fontsize=9, bg_color=[255,255,255])\n",
    "e4.set_label(r\"top\\\\left\", pos='top_left', width_mm=8., height_mm=7.0, offset_mm=[1.0, 1.0], \n",
    "                  fontsize=9, bg_color=orange, txt_color=[255,255,255])"
   ]
  },
  {
   "cell_type": "markdown",
   "metadata": {},
   "source": [
    "Let's see the changes made on the figure."
   ]
  },
  {
   "cell_type": "code",
   "execution_count": 12,
   "metadata": {},
   "outputs": [
    {
     "name": "stdout",
     "output_type": "stream",
     "text": [
      "total width of generated tikz module:  180.0\n",
      "total height of generated tikz module:  70.26666666666667\n",
      "Tikz/LaTeX file was generated.\n"
     ]
    },
    {
     "data": {
      "text/html": [
       "<iframe src=singlemodule_test.pdf width=800 height=400></iframe>"
      ],
      "text/latex": [
       "\\includegraphics[width=1.0\\textwidth]{singlemodule_test.pdf}"
      ],
      "text/plain": [
       "<__main__.PDF at 0x1d4ffa10880>"
      ]
     },
     "execution_count": 12,
     "metadata": {},
     "output_type": "execute_result"
    }
   ],
   "source": [
    "# generate figure with LaTeX\n",
    "generator.horizontal_figure([grid], width_cm=18., filename='singlemodule_test.pdf')\n",
    "\n",
    "# show result\n",
    "PDF(\"singlemodule_test.pdf\", (800,400))"
   ]
  },
  {
   "cell_type": "markdown",
   "metadata": {},
   "source": [
    "Module titles can placed around the module. Valid positions are \"top\"/\"north\", \"left\"/\"west\", etc.\n",
    "The properties can be handled seperately. \n",
    "\n",
    "_field_size_: means width or height of the text-field. If the title is \"north\"/\"south\" _field_size_ corresponds to the height. The width is calculated automatically - like in the \"Grid-Layout\" shown at the beginning. If the title is \"east\"/\"west\" it corresponds to the width and the height is calculated.\n",
    "\n",
    "In case the user set's the content for a text-field (e.g. caption or title), but forgot to define a _field_size_ in the layout, we set a height/width to that text-field to ensure, that the content will be shown."
   ]
  },
  {
   "cell_type": "code",
   "execution_count": 13,
   "metadata": {},
   "outputs": [
    {
     "data": {
      "text/plain": [
       "<generator.generator.LayoutView at 0x1d4ff9bf430>"
      ]
     },
     "execution_count": 13,
     "metadata": {},
     "output_type": "execute_result"
    }
   ],
   "source": [
    "# module titles\n",
    "grid.set_title('top', 'Top Title')\n",
    "layout.set_title('top', field_size_mm=5., offset_mm=2.,fontsize=12, bg_color=orange, txt_color=[255,255,255])\n",
    "\n",
    "grid.set_title('left', 'Left Title')\n",
    "layout.set_title('left', field_size_mm=4., offset_mm=2.,fontsize=12)"
   ]
  },
  {
   "cell_type": "markdown",
   "metadata": {},
   "source": [
    "Like module titles we can define row or column titles.\n",
    "Instead of a single string, the figure generator wants a list of strings.\n",
    "\n",
    "_offset_mm_ (text-fields in general): Like in the \"Grid-Layout\" hinted, we have some paddings corresponding to text-fields. These might be of interest, so that the text is not \"glued\" to other content.\n",
    "\n",
    "_txt_rotation_ (text-fields in general): rotates the text content. Value is of type integer ranging from 0° (no rotation) to (-)90°. 90° = clockwise.\n",
    "\n",
    "Note, we did not define the proper layout for column titles. Like discussed before, the content will still be shown, because of some defaults."
   ]
  },
  {
   "cell_type": "code",
   "execution_count": 14,
   "metadata": {},
   "outputs": [
    {
     "data": {
      "text/plain": [
       "<generator.generator.Grid at 0x1d4ff9e62e0>"
      ]
     },
     "execution_count": 14,
     "metadata": {},
     "output_type": "execute_result"
    }
   ],
   "source": [
    "# Row and column titles\n",
    "grid.set_row_titles('left', ['Row Titles', 'are better'])\n",
    "layout.set_row_titles('left', field_size_mm=10., offset_mm=1., fontsize=9, txt_rotation=0, bg_color=[blue, l_blue])\n",
    "\n",
    "grid.set_col_titles('north', ['Col Titles', 'are', 'The Best'])"
   ]
  },
  {
   "cell_type": "markdown",
   "metadata": {},
   "source": [
    "This is basically everything concerning a grid-module. You could also add more modules. The order of the grids in the lists are the same as in the figure (from left to right). You can also change the arguments to [grid, grid] if you like or the width."
   ]
  },
  {
   "cell_type": "code",
   "execution_count": 17,
   "metadata": {},
   "outputs": [
    {
     "name": "stdout",
     "output_type": "stream",
     "text": [
      "total width of generated tikz module:  180.0\n",
      "total height of generated tikz module:  74.6\n",
      "Tikz/LaTeX file was generated.\n"
     ]
    },
    {
     "data": {
      "text/html": [
       "<iframe src=singlemodule_test.pdf width=800 height=400></iframe>"
      ],
      "text/latex": [
       "\\includegraphics[width=1.0\\textwidth]{singlemodule_test.pdf}"
      ],
      "text/plain": [
       "<__main__.PDF at 0x1d4d321a0a0>"
      ]
     },
     "execution_count": 17,
     "metadata": {},
     "output_type": "execute_result"
    }
   ],
   "source": [
    "generator.horizontal_figure([grid], width_cm=18., filename='singlemodule_test.pdf')\n",
    "#generator.horizontal_figure([grid], width_cm=18., filename='singlemodule_test.pptx')\n",
    "#generator.horizontal_figure([grid], width_cm=18., filename='singlemodule_test.html')\n",
    "\n",
    "PDF(\"singlemodule_test.pdf\", (800,400))"
   ]
  }
 ],
 "metadata": {
  "kernelspec": {
   "display_name": "Python 3",
   "language": "python",
   "name": "python3"
  },
  "language_info": {
   "codemirror_mode": {
    "name": "ipython",
    "version": 3
   },
   "file_extension": ".py",
   "mimetype": "text/x-python",
   "name": "python",
   "nbconvert_exporter": "python",
   "pygments_lexer": "ipython3",
   "version": "3.8.3"
  }
 },
 "nbformat": 4,
 "nbformat_minor": 4
}
